{
  "cells": [
    {
      "cell_type": "markdown",
      "metadata": {
        "id": "-Aiy2tyGr5zs"
      },
      "source": [
        "# Sieci neuronowe"
      ]
    },
    {
      "cell_type": "markdown",
      "metadata": {
        "id": "vZ7PX0Mnr5zv"
      },
      "source": [
        "## Wstęp\n",
        "\n",
        "Celem laboratorium jest zapoznanie się z podstawami sieci neuronowych oraz uczeniem głębokim (*deep learning*). Zapoznasz się na nim z następującymi tematami:\n",
        "- treningiem prostych sieci neuronowych, w szczególności z:\n",
        "  - regresją liniową w sieciach neuronowych\n",
        "  - optymalizacją funkcji kosztu\n",
        "  - algorytmem spadku wzdłuż gradientu\n",
        "  - siecią typu Multilayer Perceptron (MLP)\n",
        "- frameworkiem PyTorch, w szczególności z:\n",
        "  - ładowaniem danych\n",
        "  - preprocessingiem danych\n",
        "  - pisaniem pętli treningowej i walidacyjnej\n",
        "  - walidacją modeli\n",
        "- architekturą i hiperaprametrami sieci MLP, w szczególności z:\n",
        "  - warstwami gęstymi (w pełni połączonymi)\n",
        "  - funkcjami aktywacji\n",
        "  - regularyzacją: L2, dropout"
      ]
    },
    {
      "cell_type": "markdown",
      "metadata": {
        "id": "Cf5gleEhr5zw"
      },
      "source": [
        "## Wykorzystywane biblioteki\n",
        "\n",
        "Zaczniemy od pisania ręcznie prostych sieci w bibliotece Numpy, służącej do obliczeń numerycznych na CPU. Później przejdziemy do wykorzystywania frameworka PyTorch, służącego do obliczeń numerycznych na CPU, GPU oraz automatycznego różniczkowania, wykorzystywanego głównie do treningu sieci neuronowych.\n",
        "\n",
        "Wykorzystamy PyTorcha ze względu na popularność, łatwość instalacji i użycia, oraz dużą kontrolę nad niskopoziomowymi aspektami budowy i treningu sieci neuronowych. Framework ten został stworzony do zastosowań badawczych i naukowych, ale ze względu na wygodę użycia stał się bardzo popularny także w przemyśle. W szczególności całkowicie zdominował przetwarzanie języka naturalnego (NLP) oraz uczenie na grafach.\n",
        "\n",
        "Pierwszy duży framework do deep learningu, oraz obecnie najpopularniejszy, to TensorFlow, wraz z wysokopoziomową nakładką Keras. Są jednak szanse, że Google (autorzy) będzie go powoli porzucać na rzecz ich nowego frameworka JAX ([dyskusja](https://www.reddit.com/r/MachineLearning/comments/vfl57t/d_google_quietly_moving_its_products_from/), [artykuł Business Insidera](https://www.businessinsider.com/facebook-pytorch-beat-google-tensorflow-jax-meta-ai-2022-6?IR=T)), który jest bardzo świeżym, ale ciekawym narzędziem.\n",
        "\n",
        "Trzecia, ale znacznie mniej popularna od powyższych opcja to Apache MXNet."
      ]
    },
    {
      "cell_type": "markdown",
      "metadata": {
        "id": "AUn1PFZwr5zx"
      },
      "source": [
        "## Konfiguracja własnego komputera\n",
        "\n",
        "Jeżeli korzystasz z własnego komputera, to musisz zainstalować trochę więcej bibliotek (Google Colab ma je już zainstalowane).\n",
        "\n",
        "Jeżeli nie masz GPU lub nie chcesz z niego korzystać, to wystarczy znaleźć odpowiednią komendę CPU [na stronie PyTorcha](https://pytorch.org/get-started/locally/). Dla Anacondy odpowiednia komenda została podana poniżej, dla pip'a znajdź ją na stronie.\n",
        "\n",
        "Jeżeli chcesz korzystać ze wsparcia GPU (na tym laboratorium nie będzie potrzebne, na kolejnych może przyspieszyć nieco obliczenia), to musi być to odpowiednio nowa karta NVidii, mająca CUDA compatibility ([lista](https://developer.nvidia.com/cuda-gpus)). Poza PyTorchem będzie potrzebne narzędzie NVidia CUDA w wersji 11.6 lub 11.7. Instalacja na Windowsie jest bardzo prosta (wystarczy ściągnąć plik EXE i zainstalować jak każdy inny program). Instalacja na Linuxie jest trudna i można względnie łatwo zepsuć sobie system, ale jeżeli chcesz spróbować, to [ten tutorial](https://www.youtube.com/results?search_query=nvidia+cuda+install+ubuntu+20.04) jest bardzo dobry."
      ]
    },
    {
      "cell_type": "code",
      "execution_count": 124,
      "metadata": {
        "id": "ikOPSBUTr5zy"
      },
      "outputs": [],
      "source": [
        "# for conda users\n",
        "# !conda install -y matplotlib pandas pytorch torchvision torchaudio -c pytorch -c conda-forge"
      ]
    },
    {
      "cell_type": "markdown",
      "metadata": {
        "id": "Othm3C2lLAsj"
      },
      "source": [
        "## Wprowadzenie\n",
        "\n",
        "Zanim zaczniemy naszą przygodę z sieciami neuronowymi, przyjrzyjmy się prostemu przykładowi regresji liniowej na syntetycznych danych:"
      ]
    },
    {
      "cell_type": "code",
      "execution_count": 125,
      "metadata": {
        "id": "rnJsfxbnLAsj"
      },
      "outputs": [],
      "source": [
        "from typing import Tuple, Dict\n",
        "\n",
        "import numpy as np\n",
        "import matplotlib.pyplot as plt"
      ]
    },
    {
      "cell_type": "code",
      "execution_count": 126,
      "metadata": {
        "colab": {
          "base_uri": "https://localhost:8080/",
          "height": 283
        },
        "id": "EaYpEXzBLAsl",
        "outputId": "0349f88c-3608-47ef-e99a-2b6606d09ff1"
      },
      "outputs": [
        {
          "output_type": "execute_result",
          "data": {
            "text/plain": [
              "<matplotlib.collections.PathCollection at 0x7f9484318d90>"
            ]
          },
          "metadata": {},
          "execution_count": 126
        },
        {
          "output_type": "display_data",
          "data": {
            "text/plain": [
              "<Figure size 432x288 with 1 Axes>"
            ],
            "image/png": "[encoded data removed]"
          },
          "metadata": {
            "needs_background": "light"
          }
        }
      ],
      "source": [
        "np.random.seed(0)\n",
        "\n",
        "x = np.linspace(0, 1, 100)\n",
        "y = x + np.random.normal(scale=0.1, size=x.shape)\n",
        "\n",
        "plt.scatter(x, y)"
      ]
    },
    {
      "cell_type": "markdown",
      "metadata": {
        "id": "PEM_-yKELAsl"
      },
      "source": [
        "W przeciwieństwie do laboratorium 1, tym razem będziemy chcieli rozwiązać ten problem własnoręcznie, bez użycia wysokopoziomowego interfejsu Scikit-learn'a. W tym celu musimy sobie przypomnieć sformułowanie naszego **problemu optymalizacyjnego (optimization problem)**.\n",
        "\n",
        "W przypadku prostej regresji liniowej (1 zmienna) mamy model postaci $\\hat{y} = \\alpha x + \\beta$, z dwoma parametrami, których będziemy się uczyć. Miarą niedopasowania modelu o danych parametrach jest **funkcja kosztu (cost function)**, nazywana też funkcją celu. Najczęściej używa się **błędu średniokwadratowego (mean squared error, MSE)**:\n",
        "$$\\large\n",
        "MSE = \\frac{1}{N} \\sum_{i}^{N} (y - \\hat{y})^2\n",
        "$$\n",
        "\n",
        "Od jakich $\\alpha$ i $\\beta$ zacząć? W najprostszym wypadku wystarczy po prostu je wylosować jako niewielkie liczby zmiennoprzecinkowe.\n",
        "\n",
        "#### Zadanie 1 (0.5 punkt)\n",
        "\n",
        "Uzupełnij kod funkcji `mse`, obliczającej błąd średniokwadratowy. Wykorzystaj Numpy'a w celu wektoryzacji obliczeń dla wydajności."
      ]
    },
    {
      "cell_type": "code",
      "execution_count": 127,
      "metadata": {
        "id": "RaA7Q46TLAsm"
      },
      "outputs": [],
      "source": [
        "def mse(y: np.ndarray, y_hat: np.ndarray) -> float:\n",
        "  return np.square(y - y_hat).mean()"
      ]
    },
    {
      "cell_type": "code",
      "execution_count": 128,
      "metadata": {
        "colab": {
          "base_uri": "https://localhost:8080/",
          "height": 301
        },
        "id": "qSGfamGbLAsm",
        "outputId": "ee3b128e-7142-4ca6-85cc-b296b65c27e2"
      },
      "outputs": [
        {
          "output_type": "stream",
          "name": "stdout",
          "text": [
            "MSE: 0.133\n"
          ]
        },
        {
          "output_type": "execute_result",
          "data": {
            "text/plain": [
              "[<matplotlib.lines.Line2D at 0x7f9484192bb0>]"
            ]
          },
          "metadata": {},
          "execution_count": 128
        },
        {
          "output_type": "display_data",
          "data": {
            "text/plain": [
              "<Figure size 432x288 with 1 Axes>"
            ],
            "image/png": "[encoded data removed]"
          },
          "metadata": {
            "needs_background": "light"
          }
        }
      ],
      "source": [
        "a = np.random.rand()\n",
        "b = np.random.rand()\n",
        "print(f\"MSE: {mse(y, a * x + b):.3f}\")\n",
        "\n",
        "plt.scatter(x, y)\n",
        "plt.plot(x, a * x + b, color=\"g\", linewidth=4)"
      ]
    },
    {
      "cell_type": "markdown",
      "metadata": {
        "id": "Y--E9Mp9LAsn"
      },
      "source": [
        "Losowe parametry radzą sobie nie najlepiej. Jak lepiej dopasować naszą prostą do danych? Zawsze możemy starać się wyprowadzić rozwiązanie analitycznie, i w tym wypadku nawet nam się uda. Jest to jednak szczególny i dość rzadki przypadek, a w szczególności nie będzie to możliwe w większych sieciach neuronowych.\n",
        "\n",
        "Potrzebna nam będzie **metoda optymalizacji (optimization method)**, dającą wartości parametrów minimalizujące dowolną różniczkowalną funkcję kosztu. Zdecydowanie najpopularniejszy jest tutaj **spadek wzdłuż gradientu (gradient descent)**.\n",
        "\n",
        "Metoda ta wywodzi się z prostych obserwacji, które tutaj przedstawimy. Bardziej szczegółowe rozwinięcie dla zainteresowanych: [sekcja 4.3 \"Deep Learning Book\"](https://www.deeplearningbook.org/contents/numerical.html), [ten praktyczny kurs](https://cs231n.github.io/optimization-1/), [analiza oryginalnej publikacji Cauchy'ego](https://www.math.uni-bielefeld.de/documenta/vol-ismp/40_lemarechal-claude.pdf) (oryginał w języku francuskim).\n",
        "\n",
        "Pochodna jest dokładnie równa granicy funkcji. Dla małego $\\epsilon$ można ją przybliżyć jako:\n",
        "$$\\large\n",
        "\\frac{f(x)}{dx} \\approx \\frac{f(x) - f(x+\\epsilon)}{\\epsilon}\n",
        "$$\n",
        "\n",
        "Przyglądając się temu równaniu widzimy, że: \n",
        "* dla funkcji rosnącej ($f(x+\\epsilon) > f(x)$) wyrażenie $\\frac{f(x)}{dx}$ będzie miało znak ujemny \n",
        "* dla funkcji malejącej ($f(x+\\epsilon) < f(x)$) wyrażenie $\\frac{f(x)}{dx}$ będzie miało znak dodatni \n",
        "\n",
        "Widzimy więc, że potrafimy wskazać kierunek zmniejszenia wartości funkcji, patrząc na znak pochodnej. Zaobserwowano także, że amplituda wartości w $\\frac{f(x)}{dx}$ jest tym większa, im dalej jesteśmy od minimum (maximum). Pochodna wyznacza więc, w jakim kierunku funkcja najszybciej rośnie, więc kierunek o przeciwnym zwrocie to kierunek, w którym funkcja najszybciej spada.\n",
        "\n",
        "Stosując powyższe do optymalizacji, mamy:\n",
        "$$\\large\n",
        "x_{t+1} = x_{t} -  \\alpha * \\frac{f(x)}{dx}\n",
        "$$\n",
        "\n",
        "$\\alpha$ to niewielka wartość (rzędu zwykle $10^{-5}$ - $10^{-2}$), wprowadzona, aby trzymać się założenia o małej zmianie parametrów ($\\epsilon$). Nazywa się ją **stałą uczącą (learning rate)** i jest zwykle najważniejszym hiperparametrem podczas nauki sieci.\n",
        "\n",
        "Metoda ta zakłada, że używamy całego zbioru danych do aktualizacji parametrów w każdym kroku, co nazywa się po prostu GD (od *gradient descent*) albo *full batch GD*. Wtedy każdy krok optymalizacji nazywa się **epoką (epoch)**.\n",
        "\n",
        "Im większa stała ucząca, tym większe nasze kroki podczas minimalizacji. Możemy więc uczyć szybciej, ale istnieje ryzyko, że będziemy \"przeskakiwać\" minima. Mniejsza stała ucząca to wolniejszy trening, ale dokładniejszy. Można także zmieniać ją podczas treningu, co nazywa się **learning rate scheduling (LR scheduling)**. Obrazowo:\n",
        "\n",
        "![learning_rate](http://www.bdhammel.com/assets/learning-rate/lr-types.png)"
      ]
    },
    {
      "cell_type": "markdown",
      "metadata": {
        "id": "496qEjkVLAso"
      },
      "source": [
        "![interactive LR](http://cdn-images-1.medium.com/max/640/1*eeIvlwkMNG1wSmj3FR6M2g.gif)"
      ]
    },
    {
      "cell_type": "markdown",
      "metadata": {
        "id": "RYkyAHKzLAsp"
      },
      "source": [
        "Policzmy więc pochodną dla naszej funkcji kosztu MSE. Pochodną liczymy po predykcjach naszego modelu, czyli de facto po jego parametrach, bo to od nich zależą predykcje.\n",
        "$$\\large\n",
        "\\frac{\\text{d} MSE}{\\text{d} \\hat{y}} = -2 \\cdot \\frac{1}{N} \\sum_{i=1}^{N} (y_i - \\hat{y}_i) = -2 \\cdot \\frac{1}{N} \\sum_{i=1}^{N} (y_i - (ax + b))\n",
        "$$\n",
        "\n",
        "Musimy jeszcze się dowiedzieć, jak zaktualizować każdy z naszych parametrów. Możemy wykorzystać tutaj regułę łańcuchową (*chain rule*) i policzyć ponownie pochodną, tylko że po naszych parametrach. Dzięki temu dostajemy informację, jak każdy z parametrów wpływa na funkcję kosztu i jak zmodyfikować każdy z nich w kolejnym kroku.\n",
        "$$\\large\n",
        "\\frac{\\text{d} \\hat{y}}{\\text{d} a} = x\n",
        "$$\n",
        "\n",
        "$$\\large\n",
        "\\frac{\\text{d} \\hat{y}}{\\text{d} b} = 1\n",
        "$$\n",
        "\n",
        "Pełna aktualizacja to zatem:\n",
        "$$\\large\n",
        "a' = a + \\alpha * \\left( \\frac{-2}{N} \\sum_{i=1}^N (y_i - \\hat{y}_i) * (-x) \\right)\n",
        "$$\n",
        "$$\\large\n",
        "b' = b + \\alpha * \\left( \\frac{-2}{N} \\sum_{i=1}^N (y_i - \\hat{y}_i) * (-1) \\right)\n",
        "$$\n",
        "\n",
        "Liczymy więc pochodną funkcji kosztu, a potem za pomocą reguły łańcuchowej \"cofamy się\", dochodząc do tego, jak każdy z parametrów wpływa na błąd i w jaki sposób powinniśmy go zmienić. Nazywa się to **propagacją wsteczną (backpropagation)** i jest podstawowym mechanizmem umożliwiającym naukę sieci neuronowych za pomocą spadku wzdłuż gradientu. Więcej możesz o tym przeczytać [tutaj](https://cs231n.github.io/optimization-2/).\n",
        "\n",
        "Obliczenie pochodnych cząstkowych ze względu na każdy \n",
        "\n",
        "\n",
        "#### Zadanie 2 (1.5 punkty)\n",
        "\n",
        "Zaimplementuj funkcję realizującą jedną epokę treningową. Oblicz predykcję przy aktualnych parametrach oraz zaktualizuj je zgodnie z powyższymi wzorami."
      ]
    },
    {
      "cell_type": "code",
      "execution_count": 129,
      "metadata": {
        "id": "4qbdWOSULAsp"
      },
      "outputs": [],
      "source": [
        "def optimize(\n",
        "    x: np.ndarray, y: np.ndarray, a: float, b: float, learning_rate: float = 0.1\n",
        "):\n",
        "    y_hat = a * x + b\n",
        "    errors = y - y_hat\n",
        "\n",
        "    new_a = a + learning_rate * (-2) * (errors * (-x)).mean()\n",
        "    new_b = b + learning_rate * (-2) * (errors * (-1)).mean()\n",
        "\n",
        "    return new_a, new_b"
      ]
    },
    {
      "cell_type": "code",
      "execution_count": 130,
      "metadata": {
        "id": "5qrf8Eg8r5z3",
        "colab": {
          "base_uri": "https://localhost:8080/"
        },
        "outputId": "002f352d-eb09-4ee5-9081-00198e4265c5"
      },
      "outputs": [
        {
          "output_type": "stream",
          "name": "stdout",
          "text": [
            "step 0 loss:  0.1330225119404028\n",
            "step 100 loss:  0.012673197778527677\n",
            "step 200 loss:  0.010257153540857817\n",
            "step 300 loss:  0.0100948037549359\n",
            "step 400 loss:  0.010083894412889118\n",
            "step 500 loss:  0.010083161342973332\n",
            "step 600 loss:  0.010083112083219709\n",
            "step 700 loss:  0.010083108773135261\n",
            "step 800 loss:  0.010083108550709076\n",
            "step 900 loss:  0.01008310853576281\n",
            "final loss: 0.010083108534760455\n"
          ]
        }
      ],
      "source": [
        "for i in range(1000):\n",
        "    loss = mse(y, a * x + b)\n",
        "    a, b = optimize(x, y, a, b)\n",
        "    if i % 100 == 0:\n",
        "        print(f\"step {i} loss: \", loss)\n",
        "\n",
        "print(\"final loss:\", loss)"
      ]
    },
    {
      "cell_type": "code",
      "execution_count": 131,
      "metadata": {
        "id": "xOgRcPC1LAsq",
        "scrolled": false,
        "colab": {
          "base_uri": "https://localhost:8080/",
          "height": 283
        },
        "outputId": "eeab5dc1-555a-44f5-e254-f0a8c5c95843"
      },
      "outputs": [
        {
          "output_type": "execute_result",
          "data": {
            "text/plain": [
              "[<matplotlib.lines.Line2D at 0x7f94843ac1f0>]"
            ]
          },
          "metadata": {},
          "execution_count": 131
        },
        {
          "output_type": "display_data",
          "data": {
            "text/plain": [
              "<Figure size 432x288 with 1 Axes>"
            ],
            "image/png": "[encoded data removed]"
          },
          "metadata": {
            "needs_background": "light"
          }
        }
      ],
      "source": [
        "plt.scatter(x, y)\n",
        "plt.plot(x, a * x + b, color=\"g\", linewidth=4)"
      ]
    },
    {
      "cell_type": "markdown",
      "metadata": {
        "id": "vOr2fWYpLAsq"
      },
      "source": [
        "Udało ci się wytrenować swoją pierwszą sieć neuronową. Czemu? Otóż neuron to po prostu wektor parametrów, a zwykle robimy iloczyn skalarny tych parametrów z wejściem. Dodatkowo na wyjście nakłada się **funkcję aktywacji (activation function)**, która przekształca wyjście. Tutaj takiej nie było, a właściwie była to po prostu funkcja identyczności.\n",
        "\n",
        "Oczywiście w praktyce korzystamy z odpowiedniego frameworka, który w szczególności:\n",
        "- ułatwia budowanie sieci, np. ma gotowe klasy dla warstw neuronów\n",
        "- ma zaimplementowane funkcje kosztu oraz ich pochodne\n",
        "- sam różniczkuje ze względu na odpowiednie parametry i aktualizuje je odpowiednio podczas treningu\n"
      ]
    },
    {
      "cell_type": "markdown",
      "metadata": {
        "id": "NJBYJabuLAsr"
      },
      "source": [
        "## Wprowadzenie do PyTorcha"
      ]
    },
    {
      "cell_type": "markdown",
      "metadata": {
        "id": "EB-99XqhLAsr"
      },
      "source": [
        "PyTorch to w gruncie rzeczy narzędzie do algebry liniowej z [automatycznym rożniczkowaniem](https://pytorch.org/tutorials/beginner/blitz/autograd_tutorial.html), z możliwością przyspieszenia obliczeń z pomocą GPU. Na tych fundamentach zbudowany jest pełny framework do uczenia głębokiego. Można spotkać się ze stwierdzenie, że PyTorch to NumPy + GPU + opcjonalne różniczkowanie, co jest całkiem celne. Plus można łatwo debugować printem :)\n",
        "\n",
        "PyTorch używa dynamicznego grafu obliczeń, który sami definiujemy w kodzie. Takie podejście jest bardzo wygodne, elastyczne i pozwala na łatwe eksperymentowanie. Odbywa się to potencjalnie kosztem wydajności, ponieważ pozostawia kwestię optymalizacji programiście. Więcej na ten temat dla zainteresowanych na końcu laboratorium.\n",
        "\n",
        "Samo API PyTorcha bardzo przypomina Numpy'a, a podstawowym obiektem jest `Tensor`, klasa reprezentująca tensory dowolnego wymiaru. Dodatkowo niektóre tensory będą miały automatycznie obliczony gradient. Co ważne, tensor jest na pewnym urządzeniu, CPU lub GPU, a przenosić między nimi trzeba explicite.\n",
        "\n",
        "Najważniejsze moduły:\n",
        "- `torch` - podstawowe klasy oraz funkcje, np. `Tensor`, `from_numpy()`\n",
        "- `torch.nn` - klasy związane z sieciami neuronowymi, np. `Linear`, `Sigmoid`\n",
        "- `torch.optim` - wszystko związane z optymalizacją, głównie spadkiem wzdłuż gradientu"
      ]
    },
    {
      "cell_type": "code",
      "execution_count": 132,
      "metadata": {
        "id": "FwuIt8S-LAss"
      },
      "outputs": [],
      "source": [
        "import torch\n",
        "import torch.nn as nn\n",
        "import torch.optim as optim"
      ]
    },
    {
      "cell_type": "code",
      "execution_count": 133,
      "metadata": {
        "id": "bfCiUFXULAss",
        "colab": {
          "base_uri": "https://localhost:8080/"
        },
        "outputId": "a703a568-e6f2-45b8-ed0b-6ed10fb0c16c"
      },
      "outputs": [
        {
          "output_type": "stream",
          "name": "stdout",
          "text": [
            "tensor([1.2339, 1.5165, 1.9679, 1.1752, 1.1211, 1.9487, 1.4920, 1.0987, 1.4089,\n",
            "        1.9966])\n",
            "tensor([0.2339, 0.5165, 0.9679, 0.1752, 0.1211, 0.9487, 0.4920, 0.0987, 0.4089,\n",
            "        0.9966])\n",
            "tensor(4.9595)\n"
          ]
        }
      ],
      "source": [
        "ones = torch.ones(10)\n",
        "noise = torch.ones(10) * torch.rand(10)\n",
        "\n",
        "# elementwise sum\n",
        "print(ones + noise)\n",
        "\n",
        "# elementwise multiplication\n",
        "print(ones * noise)\n",
        "\n",
        "# dot product\n",
        "print(ones @ noise)"
      ]
    },
    {
      "cell_type": "code",
      "execution_count": 134,
      "metadata": {
        "id": "ynNd_kD0LAst"
      },
      "outputs": [],
      "source": [
        "# beware - shares memory with original Numpy array!\n",
        "# very fast, but modifications are visible to original variable\n",
        "x = torch.from_numpy(x)\n",
        "y = torch.from_numpy(y)"
      ]
    },
    {
      "cell_type": "markdown",
      "metadata": {
        "id": "W9kkxczELAsu"
      },
      "source": [
        "Jeżeli dla stworzonych przez nas tensorów chcemy śledzić operacje i obliczać gradient, to musimy oznaczyć `requires_grad=True`."
      ]
    },
    {
      "cell_type": "code",
      "execution_count": 135,
      "metadata": {
        "id": "8HtZL-KfLAsu",
        "colab": {
          "base_uri": "https://localhost:8080/"
        },
        "outputId": "cefc887b-33b1-423d-8244-eabc3db950b6"
      },
      "outputs": [
        {
          "output_type": "execute_result",
          "data": {
            "text/plain": [
              "(tensor([0.2648], requires_grad=True), tensor([0.5601], requires_grad=True))"
            ]
          },
          "metadata": {},
          "execution_count": 135
        }
      ],
      "source": [
        "a = torch.rand(1, requires_grad=True)\n",
        "b = torch.rand(1, requires_grad=True)\n",
        "a, b"
      ]
    },
    {
      "cell_type": "markdown",
      "metadata": {
        "id": "Nl1guWZ_LAsv"
      },
      "source": [
        "PyTorch zawiera większość powszechnie używanych funkcji kosztu, np. MSE. Mogą być one używane na 2 sposoby, z czego pierwszy jest popularniejszy:\n",
        "- jako klasy wywoływalne z modułu `torch.nn`\n",
        "- jako funkcje z modułu `torch.nn.functional`\n",
        "\n",
        "Po wykonaniu poniższego kodu widzimy, że zwraca on nam tensor z dodatkowymi atrybutami. Co ważne, jest to skalar (0-wymiarowy tensor), bo potrzebujemy zwyczajnej liczby do obliczania propagacji wstecznych (pochodnych czątkowych)."
      ]
    },
    {
      "cell_type": "code",
      "execution_count": 136,
      "metadata": {
        "id": "l97ECtBqr5z6",
        "colab": {
          "base_uri": "https://localhost:8080/"
        },
        "outputId": "5d1fc2bc-65bd-45ca-d3e2-5be652e72ef6"
      },
      "outputs": [
        {
          "output_type": "execute_result",
          "data": {
            "text/plain": [
              "tensor(0.0872, dtype=torch.float64, grad_fn=<MseLossBackward0>)"
            ]
          },
          "metadata": {},
          "execution_count": 136
        }
      ],
      "source": [
        "mse = nn.MSELoss()\n",
        "mse(y, a * x + b)"
      ]
    },
    {
      "cell_type": "markdown",
      "metadata": {
        "id": "vS35r49nLAsw"
      },
      "source": [
        "Atrybutu `grad_fn` nie używamy wprost, bo korzysta z niego w środku PyTorch, ale widać, że tensor jest \"świadomy\", że liczy się na nim pochodną. Możemy natomiast skorzystać z atrybutu `grad`, który zawiera faktyczny gradient. Zanim go jednak dostaniemy, to trzeba powiedzieć PyTorchowi, żeby policzył gradient. Służy do tego metoda `.backward()`, wywoływana na obiekcie zwracanym przez funkcję kosztu."
      ]
    },
    {
      "cell_type": "code",
      "execution_count": 137,
      "metadata": {
        "id": "Qb7l6Xg1LAsx"
      },
      "outputs": [],
      "source": [
        "loss = mse(y, a * x + b)\n",
        "loss.backward()"
      ]
    },
    {
      "cell_type": "code",
      "execution_count": 138,
      "metadata": {
        "id": "6LfQbLVoLAsx",
        "colab": {
          "base_uri": "https://localhost:8080/"
        },
        "outputId": "4ac504b4-9c95-4885-b95e-c1384b570c7a"
      },
      "outputs": [
        {
          "output_type": "stream",
          "name": "stdout",
          "text": [
            "tensor([0.0666])\n"
          ]
        }
      ],
      "source": [
        "print(a.grad)"
      ]
    },
    {
      "cell_type": "markdown",
      "metadata": {
        "id": "Kdf1iweELAsy"
      },
      "source": [
        "Ważne jest, że PyTorch nie liczy za każdym razem nowego gradientu, tylko dodaje go do istniejącego, czyli go akumuluje. Jest to przydatne w niektórych sieciach neuronowych, ale zazwyczaj trzeba go zerować. Jeżeli tego nie zrobimy, to dostaniemy coraz większe gradienty.\n",
        "\n",
        "Do zerowania służy metoda `.zero_()`. W PyTorchu wszystkie metody modyfikujące tensor w miejscu mają `_` na końcu nazwy. Jest to dość niskopoziomowa operacja dla pojedynczych tensorów - zobaczymy za chwilę, jak to robić łatwiej dla całej sieci."
      ]
    },
    {
      "cell_type": "code",
      "execution_count": 139,
      "metadata": {
        "id": "DiCQZKJsLAsy",
        "colab": {
          "base_uri": "https://localhost:8080/"
        },
        "outputId": "06cc83d2-fce5-4116-f1f3-44bef18d240c"
      },
      "outputs": [
        {
          "output_type": "execute_result",
          "data": {
            "text/plain": [
              "tensor([0.1332])"
            ]
          },
          "metadata": {},
          "execution_count": 139
        }
      ],
      "source": [
        "loss = mse(y, a * x + b)\n",
        "loss.backward()\n",
        "a.grad"
      ]
    },
    {
      "cell_type": "markdown",
      "metadata": {
        "id": "xNC3Ag8uLAsz"
      },
      "source": [
        "Zobaczmy, jak wyglądałaby regresja liniowa, ale napisana w PyTorchu. Jest to oczywiście bardzo niskopoziomowa implementacja - za chwilę zobaczymy, jak to wygląda w praktyce."
      ]
    },
    {
      "cell_type": "code",
      "execution_count": 140,
      "metadata": {
        "id": "AKnxyeboLAsz",
        "colab": {
          "base_uri": "https://localhost:8080/"
        },
        "outputId": "d04eea3b-57b5-4c37-a5eb-ed84b1426765"
      },
      "outputs": [
        {
          "output_type": "stream",
          "name": "stdout",
          "text": [
            "step 0 loss:  tensor(0.0872, dtype=torch.float64, grad_fn=<MseLossBackward0>)\n",
            "step 100 loss:  tensor(0.0134, dtype=torch.float64, grad_fn=<MseLossBackward0>)\n",
            "step 200 loss:  tensor(0.0103, dtype=torch.float64, grad_fn=<MseLossBackward0>)\n",
            "step 300 loss:  tensor(0.0101, dtype=torch.float64, grad_fn=<MseLossBackward0>)\n",
            "step 400 loss:  tensor(0.0101, dtype=torch.float64, grad_fn=<MseLossBackward0>)\n",
            "step 500 loss:  tensor(0.0101, dtype=torch.float64, grad_fn=<MseLossBackward0>)\n",
            "step 600 loss:  tensor(0.0101, dtype=torch.float64, grad_fn=<MseLossBackward0>)\n",
            "step 700 loss:  tensor(0.0101, dtype=torch.float64, grad_fn=<MseLossBackward0>)\n",
            "step 800 loss:  tensor(0.0101, dtype=torch.float64, grad_fn=<MseLossBackward0>)\n",
            "step 900 loss:  tensor(0.0101, dtype=torch.float64, grad_fn=<MseLossBackward0>)\n",
            "final loss: tensor(0.0101, dtype=torch.float64, grad_fn=<MseLossBackward0>)\n"
          ]
        }
      ],
      "source": [
        "learning_rate = 0.1\n",
        "for i in range(1000):\n",
        "    loss = mse(y, a * x + b)\n",
        "\n",
        "    # compute gradients\n",
        "    loss.backward()\n",
        "\n",
        "    # update parameters\n",
        "    a.data -= learning_rate * a.grad\n",
        "    b.data -= learning_rate * b.grad\n",
        "\n",
        "    # zero gradients\n",
        "    a.grad.data.zero_()\n",
        "    b.grad.data.zero_()\n",
        "\n",
        "    if i % 100 == 0:\n",
        "        print(f\"step {i} loss: \", loss)\n",
        "\n",
        "print(\"final loss:\", loss)"
      ]
    },
    {
      "cell_type": "markdown",
      "metadata": {
        "id": "2DXNVhshmmI-"
      },
      "source": [
        "Trening modeli w PyTorchu jest dosyć schematyczny i najczęściej rozdziela się go na kilka bloków, dających razem **pętlę uczącą (training loop)**, powtarzaną w każdej epoce:\n",
        "1. Forward pass - obliczenie predykcji sieci\n",
        "2. Loss calculation\n",
        "3. Backpropagation - obliczenie pochodnych oraz zerowanie gradientów\n",
        "4. Optimalization - aktualizacja wag\n",
        "5. Other - ewaluacja na zbiorze walidacyjnym, logging etc."
      ]
    },
    {
      "cell_type": "code",
      "execution_count": 141,
      "metadata": {
        "id": "2etpw7TNLAs0",
        "scrolled": true,
        "colab": {
          "base_uri": "https://localhost:8080/"
        },
        "outputId": "202e7802-1644-4375-d925-43f300f6e093"
      },
      "outputs": [
        {
          "output_type": "stream",
          "name": "stdout",
          "text": [
            "step 0 loss: 0.2509\n",
            "step 100 loss: 0.0168\n",
            "step 200 loss: 0.0105\n",
            "step 300 loss: 0.0101\n",
            "step 400 loss: 0.0101\n",
            "step 500 loss: 0.0101\n",
            "step 600 loss: 0.0101\n",
            "step 700 loss: 0.0101\n",
            "step 800 loss: 0.0101\n",
            "step 900 loss: 0.0101\n",
            "final loss: tensor(0.0101, dtype=torch.float64, grad_fn=<MseLossBackward0>)\n"
          ]
        }
      ],
      "source": [
        "# initialization\n",
        "learning_rate = 0.1\n",
        "a = torch.rand(1, requires_grad=True)\n",
        "b = torch.rand(1, requires_grad=True)\n",
        "optimizer = torch.optim.SGD([a, b], lr=learning_rate)\n",
        "best_loss = float(\"inf\")\n",
        "\n",
        "# training loop in each epoch\n",
        "for i in range(1000):\n",
        "    # forward pass\n",
        "    y_hat = a * x + b\n",
        "\n",
        "    # loss calculation\n",
        "    loss = mse(y, y_hat)\n",
        "\n",
        "    # backpropagation\n",
        "    loss.backward()\n",
        "\n",
        "    # optimization\n",
        "    optimizer.step()\n",
        "    optimizer.zero_grad()  # zeroes all gradients - very convenient!\n",
        "\n",
        "    if i % 100 == 0:\n",
        "        if loss < best_loss:\n",
        "            best_model = (a.clone(), b.clone())\n",
        "            best_loss = loss\n",
        "        print(f\"step {i} loss: {loss.item():.4f}\")\n",
        "\n",
        "print(\"final loss:\", loss)"
      ]
    },
    {
      "cell_type": "markdown",
      "metadata": {
        "id": "eU5hUs5Er5z8"
      },
      "source": [
        "Przejdziemy teraz do budowy sieci neuronowej do klasyfikacji. Typowo implementuje się ją po prostu jako sieć dla regresji, ale zwracającą tyle wyników, ile mamy klas, a potem aplikuje się na tym funkcję sigmoidalną (2 klasy) lub softmax (>2 klasy). W przypadku klasyfikacji binarnej zwraca się czasem tylko 1 wartość, przepuszczaną przez sigmoidę - wtedy wyjście z sieci to prawdopodobieństwo klasy pozytywnej.\n",
        "\n",
        "Funkcją kosztu zwykle jest **entropia krzyżowa (cross-entropy)**, stosowana też w klasycznej regresji logistycznej. Co ważne, sieci neuronowe, nawet tak proste, uczą się szybciej i stabilniej, gdy dane na wejściu (a przynajmniej zmienne numeryczne) są **ustandaryzowane (standardized)**. Operacja ta polega na odjęciu średniej i podzieleniu przez odchylenie standardowe (tzw. *Z-score transformation*).\n",
        "\n",
        "**Uwaga - PyTorch wymaga tensora klas będącego liczbami zmiennoprzecinkowymi!**"
      ]
    },
    {
      "cell_type": "markdown",
      "metadata": {
        "id": "fR7o8tHzr5z8"
      },
      "source": [
        "## Zbiór danych"
      ]
    },
    {
      "cell_type": "markdown",
      "metadata": {
        "id": "peikC300r5z8"
      },
      "source": [
        "Na tym laboratorium wykorzystamy zbiór [Adult Census](https://archive.ics.uci.edu/ml/datasets/adult). Dotyczy on przewidywania na podstawie danych demograficznych, czy dany człowiek zarabia powyżej 50 tysięcy dolarów miesięcznie, czy też mniej. Jest to cenna informacja np. przy planowaniu kampanii marketingowych. Jak możesz się domyślić, zbiór pochodzi z czasów, kiedy inflacja była dużo niższa :)\n",
        "\n",
        "Poniżej znajduje się kod do ściągnięcia i preprocessingu zbioru. Nie musisz go dokładnie analizować."
      ]
    },
    {
      "cell_type": "code",
      "execution_count": 142,
      "metadata": {
        "id": "4DNsaZAnLAs0",
        "scrolled": true,
        "colab": {
          "base_uri": "https://localhost:8080/"
        },
        "outputId": "338861a9-bae2-4862-9840-705248b01a9e"
      },
      "outputs": [
        {
          "output_type": "stream",
          "name": "stdout",
          "text": [
            "--2022-12-06 11:39:53--  https://archive.ics.uci.edu/ml/machine-learning-databases/adult/adult.data\n",
            "Resolving archive.ics.uci.edu (archive.ics.uci.edu)... 128.195.10.252\n",
            "Connecting to archive.ics.uci.edu (archive.ics.uci.edu)|128.195.10.252|:443... connected.\n",
            "HTTP request sent, awaiting response... 200 OK\n",
            "Length: 3974305 (3.8M) [application/x-httpd-php]\n",
            "Saving to: ‘adult.data.2’\n",
            "\n",
            "adult.data.2        100%[===================>]   3.79M  8.59MB/s    in 0.4s    \n",
            "\n",
            "2022-12-06 11:39:54 (8.59 MB/s) - ‘adult.data.2’ saved [3974305/3974305]\n",
            "\n"
          ]
        }
      ],
      "source": [
        "!wget https://archive.ics.uci.edu/ml/machine-learning-databases/adult/adult.data"
      ]
    },
    {
      "cell_type": "code",
      "execution_count": 143,
      "metadata": {
        "id": "9dQ9l5BXr5z9",
        "colab": {
          "base_uri": "https://localhost:8080/"
        },
        "outputId": "33b23f85-dfa0-416b-d796-8dc81c02dad4"
      },
      "outputs": [
        {
          "output_type": "execute_result",
          "data": {
            "text/plain": [
              "array([' <=50K', ' >50K'], dtype=object)"
            ]
          },
          "metadata": {},
          "execution_count": 143
        }
      ],
      "source": [
        "import pandas as pd\n",
        "\n",
        "columns = [\n",
        "    \"age\",\n",
        "    \"workclass\",\n",
        "    \"fnlwgt\",\n",
        "    \"education\",\n",
        "    \"education-num\",\n",
        "    \"marital-status\",\n",
        "    \"occupation\",\n",
        "    \"relationship\",\n",
        "    \"race\",\n",
        "    \"sex\",\n",
        "    \"capital-gain\",\n",
        "    \"capital-loss\",\n",
        "    \"hours-per-week\",\n",
        "    \"native-country\",\n",
        "    \"wage\"\n",
        "]\n",
        "\n",
        "\"\"\"\n",
        "age: continuous.\n",
        "workclass: Private, Self-emp-not-inc, Self-emp-inc, Federal-gov, Local-gov, State-gov, Without-pay, Never-worked.\n",
        "fnlwgt: continuous.\n",
        "education: Bachelors, Some-college, 11th, HS-grad, Prof-school, Assoc-acdm, Assoc-voc, 9th, 7th-8th, 12th, Masters, 1st-4th, 10th, Doctorate, 5th-6th, Preschool.\n",
        "education-num: continuous.\n",
        "marital-status: Married-civ-spouse, Divorced, Never-married, Separated, Widowed, Married-spouse-absent, Married-AF-spouse.\n",
        "occupation: Tech-support, Craft-repair, Other-service, Sales, Exec-managerial, Prof-specialty, Handlers-cleaners, Machine-op-inspct, Adm-clerical, Farming-fishing, Transport-moving, Priv-house-serv, Protective-serv, Armed-Forces.\n",
        "relationship: Wife, Own-child, Husband, Not-in-family, Other-relative, Unmarried.\n",
        "race: White, Asian-Pac-Islander, Amer-Indian-Eskimo, Other, Black.\n",
        "sex: Female, Male.\n",
        "capital-gain: continuous.\n",
        "capital-loss: continuous.\n",
        "hours-per-week: continuous.\n",
        "native-country: United-States, Cambodia, England, Puerto-Rico, Canada, Germany, Outlying-US(Guam-USVI-etc), India, Japan, Greece, South, China, Cuba, Iran, Honduras, Philippines, Italy, Poland, Jamaica, Vietnam, Mexico, Portugal, Ireland, France, Dominican-Republic, Laos, Ecuador, Taiwan, Haiti, Columbia, Hungary, Guatemala, Nicaragua, Scotland, Thailand, Yugoslavia, El-Salvador, Trinadad&Tobago, Peru, Hong, Holand-Netherlands.\n",
        "\"\"\"\n",
        "\n",
        "df = pd.read_csv(\"adult.data\", header=None, names=columns)\n",
        "df.wage.unique()"
      ]
    },
    {
      "cell_type": "code",
      "execution_count": 144,
      "metadata": {
        "id": "Hpehb4ezr5z9"
      },
      "outputs": [],
      "source": [
        "# attribution: https://www.kaggle.com/code/royshih23/topic7-classification-in-python\n",
        "df['education'].replace('Preschool', 'dropout',inplace=True)\n",
        "df['education'].replace('10th', 'dropout',inplace=True)\n",
        "df['education'].replace('11th', 'dropout',inplace=True)\n",
        "df['education'].replace('12th', 'dropout',inplace=True)\n",
        "df['education'].replace('1st-4th', 'dropout',inplace=True)\n",
        "df['education'].replace('5th-6th', 'dropout',inplace=True)\n",
        "df['education'].replace('7th-8th', 'dropout',inplace=True)\n",
        "df['education'].replace('9th', 'dropout',inplace=True)\n",
        "df['education'].replace('HS-Grad', 'HighGrad',inplace=True)\n",
        "df['education'].replace('HS-grad', 'HighGrad',inplace=True)\n",
        "df['education'].replace('Some-college', 'CommunityCollege',inplace=True)\n",
        "df['education'].replace('Assoc-acdm', 'CommunityCollege',inplace=True)\n",
        "df['education'].replace('Assoc-voc', 'CommunityCollege',inplace=True)\n",
        "df['education'].replace('Bachelors', 'Bachelors',inplace=True)\n",
        "df['education'].replace('Masters', 'Masters',inplace=True)\n",
        "df['education'].replace('Prof-school', 'Masters',inplace=True)\n",
        "df['education'].replace('Doctorate', 'Doctorate',inplace=True)\n",
        "\n",
        "df['marital-status'].replace('Never-married', 'NotMarried',inplace=True)\n",
        "df['marital-status'].replace(['Married-AF-spouse'], 'Married',inplace=True)\n",
        "df['marital-status'].replace(['Married-civ-spouse'], 'Married',inplace=True)\n",
        "df['marital-status'].replace(['Married-spouse-absent'], 'NotMarried',inplace=True)\n",
        "df['marital-status'].replace(['Separated'], 'Separated',inplace=True)\n",
        "df['marital-status'].replace(['Divorced'], 'Separated',inplace=True)\n",
        "df['marital-status'].replace(['Widowed'], 'Widowed',inplace=True)"
      ]
    },
    {
      "cell_type": "code",
      "execution_count": 145,
      "metadata": {
        "id": "LiOxs_6mLAs1",
        "scrolled": true,
        "colab": {
          "base_uri": "https://localhost:8080/"
        },
        "outputId": "c0f836d2-1e04-4cef-c622-ff8723e8205d"
      },
      "outputs": [
        {
          "output_type": "execute_result",
          "data": {
            "text/plain": [
              "((20838, 108), (20838,))"
            ]
          },
          "metadata": {},
          "execution_count": 145
        }
      ],
      "source": [
        "from sklearn.model_selection import train_test_split\n",
        "from sklearn.preprocessing import MinMaxScaler, OneHotEncoder, StandardScaler\n",
        "\n",
        "X = df.copy()\n",
        "y = (X.pop(\"wage\") == ' >50K').astype(int).values\n",
        "\n",
        "train_valid_size = 0.2\n",
        "\n",
        "X_train, X_test, y_train, y_test = train_test_split(\n",
        "    X, y, \n",
        "    test_size=train_valid_size, \n",
        "    random_state=0, \n",
        "    shuffle=True, \n",
        "    stratify=y\n",
        ")\n",
        "X_train, X_valid, y_train, y_valid = train_test_split(\n",
        "    X_train, y_train, \n",
        "    test_size=train_valid_size, \n",
        "    random_state=0, \n",
        "    shuffle=True, \n",
        "    stratify=y_train\n",
        ")\n",
        "\n",
        "continuous_cols = ['age', 'fnlwgt', 'education-num', 'capital-gain', 'capital-loss', 'hours-per-week']\n",
        "continuous_X_train = X_train[continuous_cols]\n",
        "categorical_X_train = X_train.loc[:, ~X_train.columns.isin(continuous_cols)]\n",
        "\n",
        "continuous_X_valid = X_valid[continuous_cols]\n",
        "categorical_X_valid = X_valid.loc[:, ~X_valid.columns.isin(continuous_cols)]\n",
        "\n",
        "continuous_X_test = X_test[continuous_cols]\n",
        "categorical_X_test = X_test.loc[:, ~X_test.columns.isin(continuous_cols)]\n",
        "\n",
        "categorical_encoder = OneHotEncoder(sparse=False, handle_unknown='ignore')\n",
        "continuous_scaler = StandardScaler() #MinMaxScaler(feature_range=(-1, 1))\n",
        "\n",
        "categorical_encoder.fit(categorical_X_train)\n",
        "continuous_scaler.fit(continuous_X_train)\n",
        "\n",
        "continuous_X_train = continuous_scaler.transform(continuous_X_train)\n",
        "continuous_X_valid = continuous_scaler.transform(continuous_X_valid)\n",
        "continuous_X_test = continuous_scaler.transform(continuous_X_test)\n",
        "\n",
        "categorical_X_train = categorical_encoder.transform(categorical_X_train)\n",
        "categorical_X_valid = categorical_encoder.transform(categorical_X_valid)\n",
        "categorical_X_test = categorical_encoder.transform(categorical_X_test)\n",
        "\n",
        "X_train = np.concatenate([continuous_X_train, categorical_X_train], axis=1)\n",
        "X_valid = np.concatenate([continuous_X_valid, categorical_X_valid], axis=1)\n",
        "X_test = np.concatenate([continuous_X_test, categorical_X_test], axis=1)\n",
        "\n",
        "X_train.shape, y_train.shape"
      ]
    },
    {
      "cell_type": "markdown",
      "metadata": {
        "id": "7d45xTw2r5z-"
      },
      "source": [
        "Uwaga co do typów - PyTorchu wszystko w sieci neuronowej musi być typu `float32`. W szczególności trzeba uważać na konwersje z Numpy'a, który używa domyślnie typu `float64`. Może ci się przydać metoda `.float()`.\n",
        "\n",
        "Uwaga co do kształtów wyjścia - wejścia do `nn.BCELoss` muszą być tego samego kształtu. Może ci się przydać metoda `.squeeze()` lub `.unsqueeze()`."
      ]
    },
    {
      "cell_type": "code",
      "execution_count": 146,
      "metadata": {
        "id": "qfRA3xEoLAs1"
      },
      "outputs": [],
      "source": [
        "X_train = torch.from_numpy(X_train).float()\n",
        "y_train = torch.from_numpy(y_train).float().unsqueeze(-1)\n",
        "\n",
        "X_valid = torch.from_numpy(X_valid).float()\n",
        "y_valid = torch.from_numpy(y_valid).float().unsqueeze(-1)\n",
        "\n",
        "X_test = torch.from_numpy(X_test).float()\n",
        "y_test = torch.from_numpy(y_test).float().unsqueeze(-1)"
      ]
    },
    {
      "cell_type": "markdown",
      "metadata": {
        "id": "VikYc8agr5z-"
      },
      "source": [
        "Podobnie jak w laboratorium 2, mamy tu do czynienia z klasyfikacją niezbalansowaną:"
      ]
    },
    {
      "cell_type": "code",
      "execution_count": 147,
      "metadata": {
        "id": "CdfirvA6r5z-",
        "colab": {
          "base_uri": "https://localhost:8080/",
          "height": 281
        },
        "outputId": "22e52b78-ce46-41b3-ba5c-d0ecc10319e3"
      },
      "outputs": [
        {
          "output_type": "display_data",
          "data": {
            "text/plain": [
              "<Figure size 432x288 with 1 Axes>"
            ],
            "image/png": "[encoded data removed]"
          },
          "metadata": {
            "needs_background": "light"
          }
        }
      ],
      "source": [
        "import matplotlib.pyplot as plt\n",
        "\n",
        "y_pos_perc = 100 * y_train.sum().item() / len(y_train)\n",
        "y_neg_perc = 100 - y_pos_perc\n",
        "\n",
        "plt.title(\"Class percentages\")\n",
        "plt.bar([\"<50k\", \">=50k\"], [y_neg_perc, y_pos_perc])\n",
        "plt.show()"
      ]
    },
    {
      "cell_type": "markdown",
      "metadata": {
        "id": "OmLnESrIr5z-"
      },
      "source": [
        "W związku z powyższym będziemy używać odpowiednich metryk, czyli AUROC, precyzji i czułości."
      ]
    },
    {
      "cell_type": "markdown",
      "metadata": {
        "id": "XLexWff-LAs0"
      },
      "source": [
        "#### Zadanie 3 (1 punkt)\n",
        "\n",
        "Zaimplementuj regresję logistyczną dla tego zbioru danych, używając PyTorcha. Dane wejściowe zostały dla ciebie przygotowane w komórkach poniżej.\n",
        "\n",
        "Sama sieć składa się z 2 elementów:\n",
        "- warstwa liniowa `nn.Linear`, przekształcająca wektor wejściowy na 1 wyjście - logit\n",
        "- aktywacja sigmoidalna `nn.Sigmoid`, przekształcająca logit na prawdopodobieństwo klasy pozytywnej\n",
        "\n",
        "Użyj binarnej entropii krzyżowej `nn.BCELoss` jako funkcji kosztu. Użyj optymalizatora SGD ze stałą uczącą `1e-3`. Trenuj przez 3000 epok. Pamiętaj, aby przekazać do optymalizatora `torch.optim.SGD` parametry sieci (metoda `.parameters()`)."
      ]
    },
    {
      "cell_type": "code",
      "execution_count": 148,
      "metadata": {
        "id": "NbABKz5-LAs2",
        "scrolled": true,
        "colab": {
          "base_uri": "https://localhost:8080/"
        },
        "outputId": "e82a75cc-8cfc-463d-863a-bafc35956830"
      },
      "outputs": [
        {
          "output_type": "stream",
          "name": "stdout",
          "text": [
            "final loss: 0.4395\n"
          ]
        }
      ],
      "source": [
        "learning_rate = 1e-3\n",
        "\n",
        "model = nn.Linear(X_train.shape[1], 1)\n",
        "activation = nn.Sigmoid()\n",
        "optimizer = optim.SGD(model.parameters(), lr=learning_rate)\n",
        "loss_fn = nn.BCELoss()\n",
        "model.train()\n",
        "\n",
        "num_epochs = 3000\n",
        "for epoch in range(num_epochs):\n",
        "  optimizer.zero_grad()\n",
        "  y_pred = activation(model(X_train))\n",
        "  loss = loss_fn(y_pred, y_train)\n",
        "  loss.backward()\n",
        "  optimizer.step()\n",
        "\n",
        "print(f\"final loss: {loss.item():.4f}\")"
      ]
    },
    {
      "cell_type": "markdown",
      "metadata": {
        "id": "Oe5BOUvAr5z_"
      },
      "source": [
        "Teraz trzeba sprawdzić, jak poszło naszej sieci. W PyTorchu sieć pracuje zawsze w jednym z dwóch trybów: treningowym lub ewaluacyjnym (predykcyjnym). Ten drugi wyłącza niektóre mechanizmy, które są używane tylko podczas treningu, w szczególności regularyzację dropout. Do przełączania służą metody modelu `.train()` i `.eval()`.\n",
        "\n",
        "Dodatkowo podczas liczenia predykcji dobrze jest wyłączyć liczenie gradientów, bo nie będą potrzebne, a oszczędza to czas i pamięć. Używa się do tego menadżera kontekstu `with torch.no_grad():`."
      ]
    },
    {
      "cell_type": "code",
      "execution_count": 149,
      "metadata": {
        "id": "zH37zDX4LAs2",
        "scrolled": true,
        "colab": {
          "base_uri": "https://localhost:8080/"
        },
        "outputId": "d57a470c-ddc0-4956-8a31-0d0ae54d1ecd"
      },
      "outputs": [
        {
          "output_type": "stream",
          "name": "stdout",
          "text": [
            "AUROC: 85.09%\n"
          ]
        }
      ],
      "source": [
        "from sklearn.metrics import precision_recall_curve, precision_recall_fscore_support, roc_auc_score\n",
        "\n",
        "model.eval()\n",
        "with torch.no_grad():\n",
        "    y_score = activation(model(X_test))\n",
        "\n",
        "auroc = roc_auc_score(y_test, y_score)\n",
        "print(f\"AUROC: {100 * auroc:.2f}%\")"
      ]
    },
    {
      "cell_type": "markdown",
      "metadata": {
        "id": "1kFjwSDVr50A"
      },
      "source": [
        "Jest to całkiem dobry wynik, a może być jeszcze lepszy. Sprawdźmy dla pewności jeszcze inne metryki: precyzję, recall oraz F1-score. Dodatkowo narysujemy krzywą precision-recall, czyli jak zmieniają się te metryki w zależności od przyjętego progu (threshold) prawdopodobieństwa, powyżej którego przyjmujemy klasę pozytywną. Taką krzywą należy rysować na zbiorze walidacyjnym, bo później chcemy wykorzystać tę informację do doboru progu, a nie chcemy mieć wycieku danych testowych (data leakage).\n",
        "\n",
        "Poniżej zaimplementowano także funkcję `get_optimal_threshold()`, która sprawdza, dla którego progu uzyskujemy maksymalny F1-score, i zwraca indeks oraz wartość optymalnego progu. Przyda ci się ona w dalszej części laboratorium."
      ]
    },
    {
      "cell_type": "code",
      "execution_count": 150,
      "metadata": {
        "id": "WL44zeQHr50A"
      },
      "outputs": [],
      "source": [
        "from sklearn.metrics import PrecisionRecallDisplay\n",
        "\n",
        "\n",
        "def get_optimal_threshold(\n",
        "    precisions: np.array, \n",
        "    recalls: np.array, \n",
        "    thresholds: np.array\n",
        ") -> Tuple[int, float]:\n",
        "    f1_scores = 2 * precisions * recalls / (precisions + recalls)\n",
        "    \n",
        "    optimal_idx = np.nanargmax(f1_scores)\n",
        "    optimal_threshold = thresholds[optimal_idx]\n",
        "    \n",
        "    return optimal_idx, optimal_threshold\n",
        "\n",
        "\n",
        "def plot_precision_recall_curve(y_true, y_pred_score) -> None:\n",
        "    precisions, recalls, thresholds = precision_recall_curve(y_true, y_pred_score)\n",
        "    optimal_idx, optimal_threshold = get_optimal_threshold(precisions, recalls, thresholds)\n",
        "\n",
        "    disp = PrecisionRecallDisplay(precisions, recalls)\n",
        "    disp.plot()\n",
        "    plt.title(f\"Precision-recall curve (opt. thresh.: {optimal_threshold:.4f})\")\n",
        "    plt.axvline(recalls[optimal_idx], color=\"green\", linestyle=\"-.\")\n",
        "    plt.axhline(precisions[optimal_idx], color=\"green\", linestyle=\"-.\")\n",
        "    plt.show()\n"
      ]
    },
    {
      "cell_type": "code",
      "execution_count": 151,
      "metadata": {
        "id": "Cp4_Glxir50A",
        "colab": {
          "base_uri": "https://localhost:8080/",
          "height": 295
        },
        "outputId": "3dd8d8ae-271e-464f-d096-0bd20a772b5c"
      },
      "outputs": [
        {
          "output_type": "display_data",
          "data": {
            "text/plain": [
              "<Figure size 432x288 with 1 Axes>"
            ],
            "image/png": "[encoded data removed]"
          },
          "metadata": {
            "needs_background": "light"
          }
        }
      ],
      "source": [
        "model.eval()\n",
        "with torch.no_grad():\n",
        "    y_pred_valid_score = activation(model(X_valid))\n",
        "\n",
        "plot_precision_recall_curve(y_valid, y_pred_valid_score)"
      ]
    },
    {
      "cell_type": "markdown",
      "metadata": {
        "id": "vfQPIUQ_LAs2"
      },
      "source": [
        "Jak widać, chociaż AUROC jest wysokie, to dla optymalnego F1-score recall nie jest zbyt wysoki, a precyzja jest już dość niska. Być może wynik uda się poprawić, używając modelu o większej pojemności - pełnej, głębokiej sieci neuronowej."
      ]
    },
    {
      "cell_type": "markdown",
      "metadata": {
        "id": "7ZepXME6r50A"
      },
      "source": [
        "## Sieci neuronowe"
      ]
    },
    {
      "cell_type": "markdown",
      "metadata": {
        "id": "YP298w6Cq7T6"
      },
      "source": [
        "Wszystko zaczęło się od inspirowanych biologią [sztucznych neuronów](https://en.wikipedia.org/wiki/Artificial_neuron), których próbowano użyć do symulacji mózgu. Naukowcy szybko odeszli od tego podejścia (sam problem modelowania okazał się też znacznie trudniejszy, niż sądzono), zamiast tego używając neuronów jako jednostek reprezentującą dowolną funkcję parametryczną $f(x, \\Theta)$. Każdy neuron jest zatem bardzo elastyczny, bo jedyne wymagania to funkcja różniczkowalna, a mamy do tego wektor parametrów $\\Theta$.\n",
        "\n",
        "W praktyce najczęściej można spotkać się z kilkoma rodzinami sieci neuronowych:\n",
        "1. Perceptrony wielowarstwowe (*MultiLayer Perceptron*, MLP) - najbardziej podobne do powyższego opisu, niezbędne do klasyfikacji i regresji\n",
        "2. Konwolucyjne (*Convolutional Neural Networks*, CNNs) - do przetwarzania danych z zależnościami przestrzennymi, np. obrazów czy dźwięku\n",
        "3. Rekurencyjne (*Recurrent Neural Networks*, RNNs) - do przetwarzania danych z zależnościami sekwencyjnymi, np. szeregi czasowe, oraz kiedyś do języka naturalnego\n",
        "4. Transformacyjne (*Transformers*), oparte o mechanizm atencji (*attention*) - do przetwarzania języka naturalnego (NLP), z którego wyparły RNNs, a coraz częściej także do wszelkich innych danych, np. obrazów, dźwięku\n",
        "5. Grafowe (*Graph Neural Networks*, GNNS) - do przetwarzania grafów\n",
        "\n",
        "Na tym laboratorium skupimy się na najprostszej architekturze, czyli MLP. Jest ona powszechnie łączona z wszelkimi innymi architekturami, bo pozwala dokonywać klasyfikacji i regresji. Przykładowo, klasyfikacja obrazów to zwykle CNN + MLP, klasyfikacja tekstów to transformer + MLP, a regresja na grafach to GNN + MLP.\n",
        "\n",
        "Dodatkowo, pomimo prostoty MLP są bardzo potężne - udowodniono, że perceptrony (ich powszechna nazwa) są [uniwersalnym aproksymatorem](https://www.sciencedirect.com/science/article/abs/pii/0893608089900208), będącym w stanie przybliżyć dowolną funkcję z odpowiednio małym błędem, zakładając wystarczającą wielkość warstw sieci. Szczególne ich wersje potrafią nawet [reprezentować drzewa decyzyjne](https://www.youtube.com/watch?v=_okxGdHM5b8).\n",
        "\n",
        "Dla zainteresowanych polecamy [doskonałą książkę \"Dive into Deep Learning\", z implementacjami w PyTorchu](https://d2l.ai/chapter_multilayer-perceptrons/index.html), [klasyczną książkę \"Deep Learning Book\"](https://www.deeplearningbook.org/contents/mlp.html), oraz [ten filmik](https://www.youtube.com/watch?v=BFHrIxKcLjA), jeśli zastanawiałeś/-aś się, czemu używamy deep learning, a nie naprzykład (wide?) learning. (aka. czemu staramy się budować głębokie sieci, a nie płytkie za to szerokie)"
      ]
    },
    {
      "cell_type": "markdown",
      "metadata": {
        "id": "S_ZjoGBU5upj"
      },
      "source": [
        "### Sieci MLP\n",
        "\n",
        "Dla przypomnienia, na wejściu mamy punkty ze zbioru treningowego, czyli $d$-wymiarowe wektory. W klasyfikacji chcemy znaleźć granicę decyzyjną, czyli krzywą, która oddzieli od siebie klasy. W wejściowej przestrzeni może być to trudne, bo chmury punktów z poszczególnych klas mogą być ze sobą dość pomieszane. Pamiętajmy też, że regresja logistyczna jest klasyfikatorem liniowym, czyli w danej przestrzeni potrafi oddzielić punkty tylko linią prostą.\n",
        "\n",
        "Sieć MLP składa się z warstw. Każda z nich dokonuje nieliniowego przekształcenia przestrzeni (można o tym myśleć jak o składaniu przestrzeni jakąś prostą/łamaną), tak, aby w finalnej przestrzeni nasze punkty były możliwie liniowo separowalne. Wtedy ostatnia warstwa z sigmoidą będzie potrafiła je rozdzielić od siebie.\n",
        "\n",
        "![1_x-3NGQv0pRIab8xDT-f_Hg.png](attachment:1_x-3NGQv0pRIab8xDT-f_Hg.png)\n",
        "\n",
        "Poszczególne neurony składają się z iloczynu skalarnego wejść z wagami neuronu, oraz nieliniowej funkcji aktywacji. W PyTorchu są to osobne obiekty - `nn.Linear` oraz np. `nn.Sigmoid`. Funkcja aktywacji przyjmuje wynik iloczynu skalarnego i przekształca go, aby sprawdzić, jak mocno reaguje neuron na dane wejście. Musi być nieliniowa z dwóch powodów. Po pierwsze, tylko nieliniowe przekształcenia są na tyle potężne, żeby umożliwić liniową separację danych w ostatniej warstwie. Po drugie, liniowe przekształcenia zwyczajnie nie działają. Aby zrozumieć czemu, trzeba zobaczyć, co matematycznie oznacza sieć MLP.\n",
        "\n",
        "![perceptron](https://www.saedsayad.com/images/Perceptron_bkp_1.png)\n",
        "\n",
        "Zapisane matematycznie MLP to:\n",
        "$\n",
        "h_1 = f_1(x) \\\\\n",
        "h_2 = f_2(h_1) \\\\\n",
        "h_3 = f_3(h_2) \\\\\n",
        "...\n",
        "h_n = f_n(h_{n-1})\n",
        "$\n",
        "gdzie $x$ to wejście $f_i$ to funkcja aktywacji $i$-tej warstwy, a $h_i$ to wyjście $i$-tej warstwy, nazywane **ukrytą reprezentacją (hidden representation)**, lub *latent representation*. Nazwa bierze się z tego, że w środku sieci wyciągamy cechy i wzorce w danych, które nie są widoczne na pierwszy rzut oka na wejściu.\n",
        "\n",
        "Załóżmy, że nie mamy funkcji aktywacji, czyli mamy aktywację liniową $f(x) = x$. Zobaczmy na początku sieci:\n",
        "$\n",
        "h_1 = f_1(x) = x\n",
        "h_2 = f_2(f_1) = f_2(x) = x\n",
        "...\n",
        "h_n = f_n(f_{n-1}) = f_n(x) = x\n",
        "$\n",
        "Jak widać, taka sieć niczego się nie nauczy. Wynika to z tego, że złożenie funkcji liniowych jest także funkcją liniową - patrz notatki z algebry :)\n",
        "\n",
        "Jeżeli natomiast użyjemy nieliniowej funkcji aktywacji, często oznaczanej jako $\\sigma$, to wszystko będzie działać. Co ważne, ostatnia warstwa, dająca wyjście sieci, ma zwykle inną aktywację od warstw wewnątrz sieci, bo też ma inne zadanie - zwrócić wartość dla klasyfikacji lub regresji. Na wyjściu korzysta się z funkcji liniowej (regresja), sigmoidalnej (klasyfikacja binarna) lub softmax (klasyfikacja wieloklasowa).\n",
        "\n",
        "Wewnątrz sieci używano kiedyś sigmoidy oraz tangensa hiperbolicznego `tanh`, ale okazało się to nieefektywne przy uczeniu głębokich sieci o wielu warstwach. Nowoczesne sieci korzystają zwykle z funkcji ReLU (*rectified linear unit*), która jest zaskakująco prosta: $ReLU(x) = \\max(0, x)$. Okazało się, że bardzo dobrze nadaje się do treningu nawet bardzo głębokich sieci neuronowych. Nowsze funkcje aktywacji są głównie modyfikacjami ReLU.\n",
        "\n",
        "![relu](https://www.nomidl.com/wp-content/uploads/2022/04/image-10.png)"
      ]
    },
    {
      "cell_type": "markdown",
      "metadata": {
        "id": "cLINXTiSr50B"
      },
      "source": [
        "### MLP w PyTorchu\n",
        "\n",
        "Warstwę neuronów w MLP nazywa się warstwą gęstą (*dense layer*) lub warstwą w pełni połączoną (*fully-connected layer*), i taki opis oznacza zwykle same neurony oraz funkcję aktywacji. PyTorch, jak już widzieliśmy, definiuje osobno transformację liniową oraz aktywację, a więc jedna warstwa składa się de facto z 2 obiektów, wywoływanych jeden po drugim. Inne frameworki, szczególnie wysokopoziomowe (np. Keras) łączą to często w jeden obiekt.\n",
        "\n",
        "MLP składa się zatem z sekwencji obiektów, które potem wywołuje się jeden po drugim, gdzie wyjście poprzedniego to wejście kolejnego. Ale nie można tutaj używać Pythonowych list! Z perspektywy PyTorcha to wtedy niezależne obiekty i nie zostanie wtedy przekazany między nimi gradient. Trzeba tutaj skorzystać z `nn.Sequential`, aby tworzyć taki pipeline.\n",
        "\n",
        "Rozmiary wejścia i wyjścia dla każdej warstwy trzeba w PyTorchu podawać explicite. Jest to po pierwsze edukacyjne, a po drugie często ułatwia wnioskowanie o działaniu sieci oraz jej debugowanie - mamy jasno podane, czego oczekujemy. Niektóre frameworki (np. Keras) obliczają to automatycznie.\n",
        "\n",
        "Co ważne, ostatnia warstwa zwykle nie ma funkcji aktywacji. Wynika to z tego, że obliczanie wielu funkcji kosztu (np. entropii krzyżowej) na aktywacjach jest często niestabilne numerycznie. Z tego powodu PyTorch oferuje funkcje kosztu zawierające w środku aktywację dla ostatniej warstwy, a ich implementacje są stabilne numerycznie. Przykładowo, `nn.BCELoss` przyjmuje wejście z zaaplikowanymi już aktywacjami, ale może skutkować under/overflow, natomiast `nn.BCEWithLogitsLoss` przyjmuje wejście bez aktywacji, a w środku ma specjalną implementację łączącą binarną entropię krzyżową z aktywacją sigmoidalną. Oczywiście w związku z tym aby dokonać potem predykcji w praktyce, trzeba pamiętać o użyciu funkcji aktywacji. Często korzysta się przy tym z funkcji z modułu `torch.nn.functional`, które są w tym wypadku nieco wygodniejsze od klas wywoływalnych z `torch.nn`.\n",
        "\n",
        "Całe sieci w PyTorchu tworzy się jako klasy dziedziczące po `nn.Module`. Co ważne, obiekty, z których tworzymy sieć, np. `nn.Linear`, także dziedziczą po tej klasie. Pozwala to na bardzo modułową budowę kodu, zgodną z zasadami OOP. W konstruktorze najpierw trzeba zawsze wywołać konstruktor rodzica - `super().__init__()`, a później tworzy się potrzebne obiekty i zapisuje jako atrybuty. Musimy też zdefiniować metodę `forward()`, która przyjmuje tensor `x` i zwraca wynik. Typowo ta metoda po prostu używa obiektów zdefiniowanych w konstruktorze.\n",
        "\n",
        "\n",
        "**UWAGA: nigdy w normalnych warunkach się nie woła metody `forward` ręcznie**"
      ]
    },
    {
      "cell_type": "markdown",
      "metadata": {
        "id": "J8niDgExAMDO"
      },
      "source": [
        "#### Zadanie 4 (1 punkt)\n",
        "\n",
        "Uzupełnij implementację 3-warstwowej sieci MLP. Użyj rozmiarów:\n",
        "* pierwsza warstwa: input_size x 256\n",
        "* druga warstwa: 256 x 128\n",
        "* trzecia warstwa: 128 x 1\n",
        "\n",
        "Użyj funkcji aktywacji ReLU.\n",
        "\n",
        "Przydatne klasy:\n",
        "- `nn.Sequential`\n",
        "- `nn.Linear`\n",
        "- `nn.ReLU`"
      ]
    },
    {
      "cell_type": "code",
      "execution_count": 152,
      "metadata": {
        "id": "pZpuVDz1ALU5"
      },
      "outputs": [],
      "source": [
        "from torch import sigmoid\n",
        "\n",
        "class MLP(nn.Module):\n",
        "    def __init__(self, input_size: int):\n",
        "        super().__init__()\n",
        "        self.mlp = nn.Sequential(\n",
        "            nn.Linear(input_size, 256),\n",
        "            nn.ReLU(),\n",
        "            nn.Linear(256, 128),\n",
        "            nn.ReLU(),\n",
        "            nn.Linear(128, 1)\n",
        "        )\n",
        "\n",
        "    def forward(self, x):\n",
        "        return self.mlp(x)\n",
        "\n",
        "    def predict_proba(self, x):\n",
        "        return sigmoid(self(x))\n",
        "    \n",
        "    def predict(self, x):\n",
        "        y_pred_score = self.predict_proba(x)\n",
        "        return torch.argmax(y_pred_score, dim=1)\n"
      ]
    },
    {
      "cell_type": "code",
      "execution_count": 153,
      "metadata": {
        "id": "v8WhiVH2r50D",
        "colab": {
          "base_uri": "https://localhost:8080/"
        },
        "outputId": "c8af2e48-f4d0-4d42-a13b-626f98930f61"
      },
      "outputs": [
        {
          "output_type": "stream",
          "name": "stdout",
          "text": [
            "Epoch 0 train loss: 0.6835\n",
            "Epoch 200 train loss: 0.6603\n",
            "Epoch 400 train loss: 0.6406\n",
            "Epoch 600 train loss: 0.6237\n",
            "Epoch 800 train loss: 0.6089\n",
            "Epoch 1000 train loss: 0.5959\n",
            "Epoch 1200 train loss: 0.5845\n",
            "Epoch 1400 train loss: 0.5744\n",
            "Epoch 1600 train loss: 0.5654\n",
            "Epoch 1800 train loss: 0.5574\n",
            "final loss: 0.5503\n"
          ]
        }
      ],
      "source": [
        "learning_rate = 1e-3\n",
        "model = MLP(input_size=X_train.shape[1])\n",
        "optimizer = torch.optim.SGD(model.parameters(), lr=learning_rate)\n",
        "\n",
        "# note that we are using loss function with sigmoid built in\n",
        "loss_fn = torch.nn.BCEWithLogitsLoss()\n",
        "num_epochs = 2000\n",
        "evaluation_steps = 200\n",
        "\n",
        "for i in range(num_epochs):\n",
        "    y_pred = model(X_train)\n",
        "    loss = loss_fn(y_pred, y_train)\n",
        "    loss.backward()\n",
        "    optimizer.step()\n",
        "    optimizer.zero_grad()\n",
        "\n",
        "    if i % evaluation_steps == 0:\n",
        "        print(f\"Epoch {i} train loss: {loss.item():.4f}\")\n",
        "\n",
        "print(f\"final loss: {loss.item():.4f}\")"
      ]
    },
    {
      "cell_type": "code",
      "execution_count": 154,
      "metadata": {
        "id": "LP5GSup24dXU",
        "colab": {
          "base_uri": "https://localhost:8080/",
          "height": 312
        },
        "outputId": "d9baa996-37bf-46b3-8311-daa977cee83e"
      },
      "outputs": [
        {
          "output_type": "stream",
          "name": "stdout",
          "text": [
            "AUROC: 79.45%\n"
          ]
        },
        {
          "output_type": "display_data",
          "data": {
            "text/plain": [
              "<Figure size 432x288 with 1 Axes>"
            ],
            "image/png": "[encoded data removed]"
          },
          "metadata": {
            "needs_background": "light"
          }
        }
      ],
      "source": [
        "model.eval()\n",
        "with torch.no_grad():\n",
        "    # positive class probabilities\n",
        "    y_pred_valid_score = model.predict_proba(X_valid)\n",
        "    y_pred_test_score = model.predict_proba(X_test)\n",
        "\n",
        "auroc = roc_auc_score(y_test, y_pred_test_score)\n",
        "print(f\"AUROC: {100 * auroc:.2f}%\")\n",
        "\n",
        "plot_precision_recall_curve(y_valid, y_pred_valid_score)"
      ]
    },
    {
      "cell_type": "markdown",
      "metadata": {
        "id": "F1KlX6bvr50D"
      },
      "source": [
        "AUROC jest podobne, a precision i recall spadły - wypadamy wręcz gorzej od regresji liniowej! Skoro dodaliśmy więcej warstw, to może pojemność modelu jest teraz za duża i trzeba by go zregularyzować?\n",
        "\n",
        "Sieci neuronowe bardzo łatwo przeuczają, bo są bardzo elastycznymi i pojemnymi modelami. Dlatego mają wiele różnych rodzajów regularyzacji, których używa się razem. Co ciekawe, udowodniono eksperymentalnie, że zbyt duże sieci z mocną regularyzacją działają lepiej niż mniejsze sieci, odpowiedniego rozmiaru, za to ze słabszą regularyzacją.\n",
        "\n",
        "Pierwszy rodzaj regularyzacji to znana nam już **regularyzacja L2**, czyli penalizacja zbyt dużych wag. W kontekście sieci neuronowych nazywa się też ją czasem *weight decay*. W PyTorchu dodaje się ją jako argument do optymalizatora.\n",
        "\n",
        "Regularyzacja specyficzna dla sieci neuronowych to **dropout**. Polega on na losowym wyłączaniu zadanego procenta neuronów podczas treningu. Pomimo prostoty okazała się niesamowicie skuteczna, szczególnie w treningu bardzo głębokich sieci. Co ważne, jest to mechanizm używany tylko podczas treningu - w trakcie predykcji za pomocą sieci wyłącza się ten mechanizm i dokonuje normalnie predykcji całą siecią. Podejście to można potraktować jak ensemble learning, podobny do lasów losowych - wyłączając losowe części sieci, w każdej iteracji trenujemy nieco inną sieć, co odpowiada uśrednianiu predykcji różnych algorytmów. Typowo stosuje się dość mocny dropout, rzędu 25-50%. W PyTorchu implementuje go warstwa `nn.Dropout`, aplikowana zazwyczaj po funkcji aktywacji.\n",
        "\n",
        "Ostatni, a być może najważniejszy rodzaj regularyzacji to **wczesny stop (early stopping)**. W każdym kroku mocniej dostosowujemy terenową sieć do zbioru treningowego, a więc zbyt długi trening będzie skutkował przeuczeniem. W metodzie wczesnego stopu używamy wydzielonego zbioru walidacyjnego (pojedynczego, metoda holdout), sprawdzając co określoną liczbę epok wynik na tym zbiorze. Jeżeli nie uzyskamy wyniku lepszego od najlepszego dotychczas uzyskanego przez określoną liczbę epok, to przerywamy trening. Okres, przez który czekamy na uzyskanie lepszego wyniku, to cierpliwość (*patience*). Im mniejsze, tym mocniejszy jest ten rodzaj regularyzacji, ale trzeba z tym uważać, bo łatwo jest przesadzić i zbyt szybko przerywać trening. Niektóre implementacje uwzględniają tzw. *grace period*, czyli gwarantowaną minimalną liczbę epok, przez którą będziemy trenować sieć, niezależnie od wybranej cierpliwości.\n",
        "\n",
        "Dodatkowo ryzyko przeuczenia można zmniejszyć, używając mniejszej stałej uczącej."
      ]
    },
    {
      "cell_type": "markdown",
      "metadata": {
        "id": "geDVdU_Jr50E"
      },
      "source": [
        "#### Zadanie 5 (1 punkt)\n",
        "\n",
        "Zaimplementuj funkcję `evaluate_model()`, obliczającą metryki na zbiorze testowym:\n",
        "- wartość funkcji kosztu (loss)\n",
        "- AUROC\n",
        "- optymalny próg\n",
        "- F1-score przy optymalnym progu\n",
        "- precyzję oraz recall dla optymalnego progu\n",
        "\n",
        "Jeżeli podana jest wartość argumentu `threshold`, to użyj jej do zamiany prawdopodobieństw na twarde predykcje. W przeciwnym razie użyj funkcji `get_optimal_threshold` i oblicz optymalną wartość progu.\n",
        "\n",
        "Pamiętaj o przełączeniu modelu w tryb ewaluacji oraz o wyłączeniu obliczania gradientów."
      ]
    },
    {
      "cell_type": "code",
      "execution_count": 161,
      "metadata": {
        "id": "XOabzjGOr50E"
      },
      "outputs": [],
      "source": [
        "from typing import Optional\n",
        "\n",
        "from sklearn.metrics import precision_score, recall_score, f1_score\n",
        "from torch import sigmoid\n",
        "\n",
        "def evaluate_model(\n",
        "    model: nn.Module, \n",
        "    X: torch.Tensor, \n",
        "    y: torch.Tensor, \n",
        "    loss_fn: nn.Module,\n",
        "    threshold: Optional[float]= None\n",
        ") -> Dict[str, float]:\n",
        "    model.eval()\n",
        "    with torch.no_grad():\n",
        "        y_pred_score = model.predict_proba(X)\n",
        "\n",
        "    loss = loss_fn(y_pred_score, y)\n",
        "    auroc = roc_auc_score(y, y_pred_score)\n",
        "    \n",
        "    if threshold is None:\n",
        "        _, threshold = get_optimal_threshold(*precision_recall_curve(y, y_pred_score))\n",
        "\n",
        "    y_pred = [1.0 if y_pred_score[i] >= threshold else 0.0 for i in range(len(y_pred_score))]\n",
        "\n",
        "    precision = precision_score(y, y_pred)\n",
        "    recall = recall_score(y, y_pred)\n",
        "    f1 = f1_score(y, y_pred)\n",
        "    \n",
        "    results = {\n",
        "        \"loss\": loss,\n",
        "        \"AUROC\": auroc,\n",
        "        \"optimal_threshold\": threshold,\n",
        "        \"precision\": precision,\n",
        "        \"recall\": recall,\n",
        "        \"F1-score\": f1,\n",
        "    }\n",
        "    return results\n"
      ]
    },
    {
      "cell_type": "markdown",
      "metadata": {
        "id": "Sp9Sst_Er50E"
      },
      "source": [
        "#### Zadanie 6 (1 punkt)\n",
        "\n",
        "Zaimplementuj 3-warstwową sieć MLP z regularyzacją L2 oraz dropout (50%). Rozmiary warstw ukrytych mają wynosić 256 i 128."
      ]
    },
    {
      "cell_type": "code",
      "execution_count": 162,
      "metadata": {
        "id": "12iJo1lSr50F"
      },
      "outputs": [],
      "source": [
        "class RegularizedMLP(nn.Module):\n",
        "    def __init__(self, input_size: int, dropout_p: float = 0.5):\n",
        "        super().__init__()\n",
        "        self.mlp = nn.Sequential(\n",
        "            nn.Linear(input_size, 256),\n",
        "            nn.ReLU(),\n",
        "            nn.Dropout(dropout_p),\n",
        "            nn.Linear(256, 128),\n",
        "            nn.ReLU(),\n",
        "            nn.Dropout(dropout_p),\n",
        "            nn.Linear(128, 1)\n",
        "        )\n",
        "    \n",
        "    def forward(self, x):\n",
        "        return self.mlp(x)\n",
        "\n",
        "    def predict_proba(self, x):\n",
        "        return sigmoid(self(x))\n",
        "    \n",
        "    def predict(self, x):\n",
        "        y_pred_score = self.predict_proba(x)\n",
        "        return torch.argmax(y_pred_score, dim=1)\n"
      ]
    },
    {
      "cell_type": "markdown",
      "metadata": {
        "id": "rEk9azaULAsz"
      },
      "source": [
        "Opisaliśmy wcześniej podstawowy optymalizator w sieciach neuronowych - spadek wzdłuż gradientu. Jednak wymaga on użycia całego zbioru danych, aby obliczyć gradient, co jest często niewykonalne przez rozmiar zbioru. Dlatego wymyślono **stochastyczny spadek wzdłuż gradientu (stochastic gradient descent, SGD)**, w którym używamy 1 przykładu naraz, liczymy gradient tylko po nim i aktualizujemy parametry. Jest to oczywiście dość grube przybliżenie gradientu, ale pozwala robić szybko dużo małych kroków. Kompromisem, którego używa się w praktyce, jest **minibatch gradient descent**, czyli używanie batchy np. 32, 64 czy 128 przykładów.\n",
        "\n",
        "Rzadko wspominanym, a ważnym faktem jest także to, że stochastyczność metody optymalizacji jest sama w sobie też [metodą regularyzacji](https://arxiv.org/abs/2101.12176), a więc `batch_size` to także hiperparametr.\n",
        "\n",
        "Obecnie najpopularniejszą odmianą SGD jest [Adam](https://arxiv.org/abs/1412.6980), gdyż uczy on szybko sieć oraz daje bardzo dobre wyniki nawet przy niekoniecznie idealnie dobranych hiperparametrach. W PyTorchu najlepiej korzystać z jego implementacji `AdamW`, która jest nieco lepsza niż implementacja `Adam`. Jest to zasadniczo zawsze wybór domyślny przy treningu współczesnych sieci neuronowych.\n",
        "\n",
        "Na razie użyjemy jednak minibatch SGD."
      ]
    },
    {
      "cell_type": "markdown",
      "metadata": {
        "id": "_m7AT0Yar50F"
      },
      "source": [
        "Poniżej znajduje się implementacja prostej klasy dziedziczącej po `Dataset` - tak w PyTorchu implementuje się własne zbiory danych. Użycie takich klas umożliwia użycie klas ładujących dane (`DataLoader`), które z kolei pozwalają łatwo ładować batche danych. Trzeba w takiej klasie zaimplementować metody:\n",
        "- `__len__` - zwraca ilość punktów w zbiorze\n",
        "- `__getitem__` - zwraca przykład ze zbioru pod danym indeksem oraz jego klasę\n"
      ]
    },
    {
      "cell_type": "code",
      "execution_count": 163,
      "metadata": {
        "id": "VwmQ97d2r50F"
      },
      "outputs": [],
      "source": [
        "from torch.utils.data import Dataset\n",
        "\n",
        "class MyDataset(Dataset):\n",
        "    def __init__(self, data, y):\n",
        "        super().__init__()\n",
        "        \n",
        "        self.data = data\n",
        "        self.y = y\n",
        "    \n",
        "    def __len__(self):\n",
        "        return self.data.shape[0]\n",
        "    \n",
        "    def __getitem__(self, idx):\n",
        "        return self.data[idx], self.y[idx]\n"
      ]
    },
    {
      "cell_type": "markdown",
      "metadata": {
        "id": "U5H9Wb0Jr50F"
      },
      "source": [
        "#### Zadanie 7 (2 punkty)\n",
        "\n",
        "Zaimplementuj pętlę treningowo-walidacyjną dla sieci neuronowej. Wykorzystaj podane wartości hiperparametrów do treningu (stała ucząca, prawdopodobieństwo dropoutu, regularyzacja L2, rozmiar batcha, maksymalna liczba epok). Użyj optymalizatora SGD.\n",
        "\n",
        "Dodatkowo zaimplementuj regularyzację przez early stopping. Sprawdzaj co epokę wynik na zbiorze walidacyjnym. Użyj podanej wartości patience, a jako metryki po prostu wartości funkcji kosztu. Może się tutaj przydać zaimplementowana funkcja `evaluate_model()`.\n",
        "\n",
        "Pamiętaj o tym, aby przechowywać najlepszy dotychczasowy wynik walidacyjny oraz najlepszy dotychczasowy model. Zapamiętaj też optymalny próg do klasyfikacji dla najlepszego modelu."
      ]
    },
    {
      "cell_type": "code",
      "execution_count": 164,
      "metadata": {
        "id": "-cO4n3q-r50G"
      },
      "outputs": [],
      "source": [
        "from copy import deepcopy\n",
        "\n",
        "from torch.utils.data import DataLoader\n",
        "\n",
        "\n",
        "learning_rate = 1e-3\n",
        "dropout_p = 0.5\n",
        "l2_reg = 1e-4\n",
        "batch_size = 128\n",
        "max_epochs = 300\n",
        "\n",
        "early_stopping_patience = 4"
      ]
    },
    {
      "cell_type": "code",
      "execution_count": 165,
      "metadata": {
        "scrolled": true,
        "id": "dbqGzKDBr50G",
        "colab": {
          "base_uri": "https://localhost:8080/"
        },
        "outputId": "2e15baab-cc65-487d-a299-e535567575b1"
      },
      "outputs": [
        {
          "output_type": "stream",
          "name": "stderr",
          "text": [
            "<ipython-input-150-c2d224030883>:9: RuntimeWarning: invalid value encountered in true_divide\n",
            "  f1_scores = 2 * precisions * recalls / (precisions + recalls)\n"
          ]
        },
        {
          "output_type": "stream",
          "name": "stdout",
          "text": [
            "Epoch 0 train loss: 0.6797, eval loss 0.8504688739776611\n",
            "Epoch 1 train loss: 0.6633, eval loss 0.8436510562896729\n",
            "Epoch 2 train loss: 0.6408, eval loss 0.8373146057128906\n",
            "Epoch 3 train loss: 0.6297, eval loss 0.831388533115387\n",
            "Epoch 4 train loss: 0.6218, eval loss 0.8258110284805298\n",
            "Epoch 5 train loss: 0.6146, eval loss 0.8205345273017883\n",
            "Epoch 6 train loss: 0.5957, eval loss 0.8155335187911987\n",
            "Epoch 7 train loss: 0.5889, eval loss 0.810820996761322\n",
            "Epoch 8 train loss: 0.5863, eval loss 0.8063384890556335\n",
            "Epoch 9 train loss: 0.5733, eval loss 0.8020774722099304\n",
            "Epoch 10 train loss: 0.5617, eval loss 0.7980206608772278\n",
            "Epoch 11 train loss: 0.5577, eval loss 0.7941729426383972\n"
          ]
        },
        {
          "output_type": "stream",
          "name": "stderr",
          "text": [
            "<ipython-input-150-c2d224030883>:9: RuntimeWarning: invalid value encountered in true_divide\n",
            "  f1_scores = 2 * precisions * recalls / (precisions + recalls)\n"
          ]
        },
        {
          "output_type": "stream",
          "name": "stdout",
          "text": [
            "Epoch 12 train loss: 0.5507, eval loss 0.7905234098434448\n"
          ]
        },
        {
          "output_type": "stream",
          "name": "stderr",
          "text": [
            "<ipython-input-150-c2d224030883>:9: RuntimeWarning: invalid value encountered in true_divide\n",
            "  f1_scores = 2 * precisions * recalls / (precisions + recalls)\n"
          ]
        },
        {
          "output_type": "stream",
          "name": "stdout",
          "text": [
            "Epoch 13 train loss: 0.5447, eval loss 0.7871015667915344\n"
          ]
        },
        {
          "output_type": "stream",
          "name": "stderr",
          "text": [
            "<ipython-input-150-c2d224030883>:9: RuntimeWarning: invalid value encountered in true_divide\n",
            "  f1_scores = 2 * precisions * recalls / (precisions + recalls)\n"
          ]
        },
        {
          "output_type": "stream",
          "name": "stdout",
          "text": [
            "Epoch 14 train loss: 0.5476, eval loss 0.7838891744613647\n"
          ]
        },
        {
          "output_type": "stream",
          "name": "stderr",
          "text": [
            "<ipython-input-150-c2d224030883>:9: RuntimeWarning: invalid value encountered in true_divide\n",
            "  f1_scores = 2 * precisions * recalls / (precisions + recalls)\n"
          ]
        },
        {
          "output_type": "stream",
          "name": "stdout",
          "text": [
            "Epoch 15 train loss: 0.5412, eval loss 0.7808367013931274\n"
          ]
        },
        {
          "output_type": "stream",
          "name": "stderr",
          "text": [
            "<ipython-input-150-c2d224030883>:9: RuntimeWarning: invalid value encountered in true_divide\n",
            "  f1_scores = 2 * precisions * recalls / (precisions + recalls)\n"
          ]
        },
        {
          "output_type": "stream",
          "name": "stdout",
          "text": [
            "Epoch 16 train loss: 0.5317, eval loss 0.7779809236526489\n",
            "Epoch 17 train loss: 0.5244, eval loss 0.7752622961997986\n",
            "Epoch 18 train loss: 0.5274, eval loss 0.772720992565155\n",
            "Epoch 19 train loss: 0.5178, eval loss 0.7703380584716797\n",
            "Epoch 20 train loss: 0.5237, eval loss 0.7680711150169373\n",
            "Epoch 21 train loss: 0.5174, eval loss 0.765932559967041\n",
            "Epoch 22 train loss: 0.5173, eval loss 0.763910174369812\n",
            "Epoch 23 train loss: 0.5021, eval loss 0.7619504928588867\n",
            "Epoch 24 train loss: 0.4999, eval loss 0.7600677609443665\n",
            "Epoch 25 train loss: 0.5113, eval loss 0.7582906484603882\n",
            "Epoch 26 train loss: 0.5085, eval loss 0.756561279296875\n",
            "Epoch 27 train loss: 0.5021, eval loss 0.7549312710762024\n",
            "Epoch 28 train loss: 0.5030, eval loss 0.7533573508262634\n"
          ]
        },
        {
          "output_type": "stream",
          "name": "stderr",
          "text": [
            "<ipython-input-150-c2d224030883>:9: RuntimeWarning: invalid value encountered in true_divide\n",
            "  f1_scores = 2 * precisions * recalls / (precisions + recalls)\n"
          ]
        },
        {
          "output_type": "stream",
          "name": "stdout",
          "text": [
            "Epoch 29 train loss: 0.4965, eval loss 0.751850426197052\n"
          ]
        },
        {
          "output_type": "stream",
          "name": "stderr",
          "text": [
            "<ipython-input-150-c2d224030883>:9: RuntimeWarning: invalid value encountered in true_divide\n",
            "  f1_scores = 2 * precisions * recalls / (precisions + recalls)\n"
          ]
        },
        {
          "output_type": "stream",
          "name": "stdout",
          "text": [
            "Epoch 30 train loss: 0.4863, eval loss 0.7503660917282104\n"
          ]
        },
        {
          "output_type": "stream",
          "name": "stderr",
          "text": [
            "<ipython-input-150-c2d224030883>:9: RuntimeWarning: invalid value encountered in true_divide\n",
            "  f1_scores = 2 * precisions * recalls / (precisions + recalls)\n"
          ]
        },
        {
          "output_type": "stream",
          "name": "stdout",
          "text": [
            "Epoch 31 train loss: 0.4960, eval loss 0.7489790320396423\n",
            "Epoch 32 train loss: 0.4847, eval loss 0.7476100921630859\n",
            "Epoch 33 train loss: 0.4866, eval loss 0.7462642788887024\n",
            "Epoch 34 train loss: 0.4801, eval loss 0.7449518442153931\n",
            "Epoch 35 train loss: 0.4766, eval loss 0.743666410446167\n",
            "Epoch 36 train loss: 0.4601, eval loss 0.7424220442771912\n",
            "Epoch 37 train loss: 0.4703, eval loss 0.7412095069885254\n",
            "Epoch 38 train loss: 0.4550, eval loss 0.7400076389312744\n",
            "Epoch 39 train loss: 0.4731, eval loss 0.7388593554496765\n",
            "Epoch 40 train loss: 0.4745, eval loss 0.7377402782440186\n",
            "Epoch 41 train loss: 0.4727, eval loss 0.7366254329681396\n",
            "Epoch 42 train loss: 0.4567, eval loss 0.7355051040649414\n",
            "Epoch 43 train loss: 0.4448, eval loss 0.7344599366188049\n",
            "Epoch 44 train loss: 0.4545, eval loss 0.733418881893158\n",
            "Epoch 45 train loss: 0.4785, eval loss 0.7323827743530273\n",
            "Epoch 46 train loss: 0.4424, eval loss 0.7313982248306274\n",
            "Epoch 47 train loss: 0.4392, eval loss 0.7304329872131348\n",
            "Epoch 48 train loss: 0.4374, eval loss 0.7294982075691223\n",
            "Epoch 49 train loss: 0.4355, eval loss 0.728609025478363\n",
            "Epoch 50 train loss: 0.4523, eval loss 0.7276847958564758\n",
            "Epoch 51 train loss: 0.4486, eval loss 0.7267942428588867\n",
            "Epoch 52 train loss: 0.4358, eval loss 0.7260246872901917\n",
            "Epoch 53 train loss: 0.4329, eval loss 0.7251695990562439\n",
            "Epoch 54 train loss: 0.4230, eval loss 0.7243767976760864\n",
            "Epoch 55 train loss: 0.4349, eval loss 0.7236407995223999\n",
            "Epoch 56 train loss: 0.4336, eval loss 0.7229114770889282\n",
            "Epoch 57 train loss: 0.4265, eval loss 0.7221566438674927\n",
            "Epoch 58 train loss: 0.4189, eval loss 0.72142493724823\n",
            "Epoch 59 train loss: 0.4504, eval loss 0.7207509279251099\n",
            "Epoch 60 train loss: 0.4141, eval loss 0.7201532125473022\n",
            "Epoch 61 train loss: 0.4109, eval loss 0.7195047736167908\n",
            "Epoch 62 train loss: 0.4112, eval loss 0.7188778519630432\n",
            "Epoch 63 train loss: 0.4037, eval loss 0.7182528972625732\n",
            "Epoch 64 train loss: 0.4287, eval loss 0.7176142930984497\n",
            "Epoch 65 train loss: 0.4461, eval loss 0.717032790184021\n",
            "Epoch 66 train loss: 0.4177, eval loss 0.7165277004241943\n",
            "Epoch 67 train loss: 0.4261, eval loss 0.7160308957099915\n",
            "Epoch 68 train loss: 0.4102, eval loss 0.7155359983444214\n",
            "Epoch 69 train loss: 0.4155, eval loss 0.7150334119796753\n",
            "Epoch 70 train loss: 0.4246, eval loss 0.7145984768867493\n",
            "Epoch 71 train loss: 0.3877, eval loss 0.7141305208206177\n",
            "Epoch 72 train loss: 0.3978, eval loss 0.7136774659156799\n",
            "Epoch 73 train loss: 0.4067, eval loss 0.7131874561309814\n",
            "Epoch 74 train loss: 0.4065, eval loss 0.7127270102500916\n",
            "Epoch 75 train loss: 0.3892, eval loss 0.7122802138328552\n",
            "Epoch 76 train loss: 0.3763, eval loss 0.7118010520935059\n",
            "Epoch 77 train loss: 0.4031, eval loss 0.711442232131958\n",
            "Epoch 78 train loss: 0.3867, eval loss 0.711000919342041\n",
            "Epoch 79 train loss: 0.3864, eval loss 0.7105793952941895\n",
            "Epoch 80 train loss: 0.3905, eval loss 0.7102595567703247\n",
            "Epoch 81 train loss: 0.3916, eval loss 0.7098886370658875\n",
            "Epoch 82 train loss: 0.4253, eval loss 0.7096238732337952\n",
            "Epoch 83 train loss: 0.4139, eval loss 0.70928955078125\n",
            "Epoch 84 train loss: 0.4072, eval loss 0.7088456749916077\n",
            "Epoch 85 train loss: 0.4152, eval loss 0.7085669040679932\n",
            "Epoch 86 train loss: 0.4021, eval loss 0.7082718014717102\n",
            "Epoch 87 train loss: 0.4167, eval loss 0.7080105543136597\n",
            "Epoch 88 train loss: 0.4069, eval loss 0.7077282667160034\n",
            "Epoch 89 train loss: 0.3734, eval loss 0.7075461745262146\n",
            "Epoch 90 train loss: 0.4197, eval loss 0.7072404623031616\n",
            "Epoch 91 train loss: 0.3876, eval loss 0.7070053815841675\n",
            "Epoch 92 train loss: 0.3893, eval loss 0.7067137956619263\n",
            "Epoch 93 train loss: 0.3903, eval loss 0.7064828276634216\n",
            "Epoch 94 train loss: 0.3865, eval loss 0.7061930894851685\n",
            "Epoch 95 train loss: 0.3907, eval loss 0.7060047388076782\n",
            "Epoch 96 train loss: 0.4100, eval loss 0.7057456374168396\n",
            "Epoch 97 train loss: 0.3754, eval loss 0.7055268287658691\n",
            "Epoch 98 train loss: 0.3959, eval loss 0.7053400278091431\n",
            "Epoch 99 train loss: 0.3725, eval loss 0.7051087021827698\n",
            "Epoch 100 train loss: 0.3747, eval loss 0.7048411965370178\n",
            "Epoch 101 train loss: 0.3644, eval loss 0.7046615481376648\n",
            "Epoch 102 train loss: 0.3743, eval loss 0.7044382095336914\n",
            "Epoch 103 train loss: 0.4010, eval loss 0.7042244076728821\n",
            "Epoch 104 train loss: 0.4212, eval loss 0.7040584683418274\n",
            "Epoch 105 train loss: 0.3885, eval loss 0.703885555267334\n",
            "Epoch 106 train loss: 0.3664, eval loss 0.7037184238433838\n",
            "Epoch 107 train loss: 0.3691, eval loss 0.7035279870033264\n",
            "Epoch 108 train loss: 0.4200, eval loss 0.7033683061599731\n",
            "Epoch 109 train loss: 0.3797, eval loss 0.7031844854354858\n",
            "Epoch 110 train loss: 0.4123, eval loss 0.703068196773529\n",
            "Epoch 111 train loss: 0.4134, eval loss 0.7030021548271179\n",
            "Epoch 112 train loss: 0.3908, eval loss 0.7028454542160034\n",
            "Epoch 113 train loss: 0.3858, eval loss 0.7026209831237793\n",
            "Epoch 114 train loss: 0.4007, eval loss 0.7024558186531067\n",
            "Epoch 115 train loss: 0.4217, eval loss 0.7023612856864929\n",
            "Epoch 116 train loss: 0.3727, eval loss 0.7022351622581482\n",
            "Epoch 117 train loss: 0.3866, eval loss 0.7020993828773499\n",
            "Epoch 118 train loss: 0.3798, eval loss 0.7020047903060913\n",
            "Epoch 119 train loss: 0.3950, eval loss 0.7018551826477051\n",
            "Epoch 120 train loss: 0.3790, eval loss 0.701681911945343\n",
            "Epoch 121 train loss: 0.3905, eval loss 0.7015365362167358\n",
            "Epoch 122 train loss: 0.3584, eval loss 0.7014899253845215\n",
            "Epoch 123 train loss: 0.4057, eval loss 0.7013740539550781\n",
            "Epoch 124 train loss: 0.3547, eval loss 0.7012857794761658\n",
            "Epoch 125 train loss: 0.3740, eval loss 0.7012151479721069\n",
            "Epoch 126 train loss: 0.3684, eval loss 0.7010926604270935\n",
            "Epoch 127 train loss: 0.3749, eval loss 0.7009326815605164\n",
            "Epoch 128 train loss: 0.3562, eval loss 0.7008044123649597\n",
            "Epoch 129 train loss: 0.4191, eval loss 0.7007001042366028\n",
            "Epoch 130 train loss: 0.4022, eval loss 0.7006241083145142\n",
            "Epoch 131 train loss: 0.3782, eval loss 0.7005121111869812\n",
            "Epoch 132 train loss: 0.3919, eval loss 0.7003993988037109\n",
            "Epoch 133 train loss: 0.3794, eval loss 0.7002394795417786\n",
            "Epoch 134 train loss: 0.3703, eval loss 0.7001373171806335\n",
            "Epoch 135 train loss: 0.3616, eval loss 0.7000492811203003\n",
            "Epoch 136 train loss: 0.3753, eval loss 0.6999696493148804\n",
            "Epoch 137 train loss: 0.3929, eval loss 0.6999217867851257\n",
            "Epoch 138 train loss: 0.3481, eval loss 0.6998142600059509\n",
            "Epoch 139 train loss: 0.3571, eval loss 0.699689507484436\n",
            "Epoch 140 train loss: 0.3673, eval loss 0.6997036337852478\n",
            "Epoch 141 train loss: 0.3764, eval loss 0.6995484828948975\n",
            "Epoch 142 train loss: 0.3717, eval loss 0.6995063424110413\n",
            "Epoch 143 train loss: 0.3727, eval loss 0.6994355320930481\n",
            "Epoch 144 train loss: 0.3913, eval loss 0.6993933320045471\n",
            "Epoch 145 train loss: 0.3909, eval loss 0.6992835402488708\n",
            "Epoch 146 train loss: 0.3920, eval loss 0.6992211937904358\n",
            "Epoch 147 train loss: 0.3558, eval loss 0.6991400718688965\n",
            "Epoch 148 train loss: 0.3868, eval loss 0.6990494132041931\n",
            "Epoch 149 train loss: 0.4004, eval loss 0.6989721059799194\n",
            "Epoch 150 train loss: 0.3992, eval loss 0.6989088654518127\n",
            "Epoch 151 train loss: 0.3678, eval loss 0.6988362073898315\n",
            "Epoch 152 train loss: 0.4123, eval loss 0.6987576484680176\n",
            "Epoch 153 train loss: 0.3457, eval loss 0.6986700296401978\n",
            "Epoch 154 train loss: 0.4130, eval loss 0.6985565423965454\n",
            "Epoch 155 train loss: 0.3682, eval loss 0.6984763741493225\n",
            "Epoch 156 train loss: 0.3790, eval loss 0.6984175443649292\n",
            "Epoch 157 train loss: 0.3721, eval loss 0.6983850002288818\n",
            "Epoch 158 train loss: 0.4127, eval loss 0.6983011364936829\n",
            "Epoch 159 train loss: 0.3578, eval loss 0.698275625705719\n",
            "Epoch 160 train loss: 0.3924, eval loss 0.6982112526893616\n",
            "Epoch 161 train loss: 0.3787, eval loss 0.6981852650642395\n",
            "Epoch 162 train loss: 0.3846, eval loss 0.6981331706047058\n",
            "Epoch 163 train loss: 0.3793, eval loss 0.6980456709861755\n",
            "Epoch 164 train loss: 0.3737, eval loss 0.6979469656944275\n",
            "Epoch 165 train loss: 0.3786, eval loss 0.6978507041931152\n",
            "Epoch 166 train loss: 0.4007, eval loss 0.6977956891059875\n",
            "Epoch 167 train loss: 0.3622, eval loss 0.6977376341819763\n",
            "Epoch 168 train loss: 0.3458, eval loss 0.6976581811904907\n",
            "Epoch 169 train loss: 0.3568, eval loss 0.6975778341293335\n",
            "Epoch 170 train loss: 0.3845, eval loss 0.697492778301239\n",
            "Epoch 171 train loss: 0.3751, eval loss 0.6974366307258606\n",
            "Epoch 172 train loss: 0.3422, eval loss 0.6973457932472229\n",
            "Epoch 173 train loss: 0.3639, eval loss 0.6972790360450745\n",
            "Epoch 174 train loss: 0.3955, eval loss 0.6972231864929199\n",
            "Epoch 175 train loss: 0.3606, eval loss 0.6971865892410278\n",
            "Epoch 176 train loss: 0.3694, eval loss 0.6970676183700562\n",
            "Epoch 177 train loss: 0.3881, eval loss 0.6969137787818909\n",
            "Epoch 178 train loss: 0.4005, eval loss 0.6969414949417114\n",
            "Epoch 179 train loss: 0.4089, eval loss 0.6969195604324341\n",
            "Epoch 180 train loss: 0.3911, eval loss 0.6968857049942017\n",
            "Epoch 181 train loss: 0.3770, eval loss 0.6969438791275024\n",
            "Epoch 182 train loss: 0.3830, eval loss 0.6968905329704285\n",
            "Epoch 183 train loss: 0.3642, eval loss 0.6968287229537964\n",
            "Epoch 184 train loss: 0.3852, eval loss 0.6968039274215698\n",
            "Epoch 185 train loss: 0.3825, eval loss 0.6966923475265503\n",
            "Epoch 186 train loss: 0.3776, eval loss 0.6966400742530823\n",
            "Epoch 187 train loss: 0.3638, eval loss 0.6965678930282593\n",
            "Epoch 188 train loss: 0.3494, eval loss 0.6965102553367615\n",
            "Epoch 189 train loss: 0.3413, eval loss 0.6964581608772278\n",
            "Epoch 190 train loss: 0.3652, eval loss 0.6964125633239746\n",
            "Epoch 191 train loss: 0.3582, eval loss 0.6962931156158447\n",
            "Epoch 192 train loss: 0.3770, eval loss 0.6962440013885498\n",
            "Epoch 193 train loss: 0.3783, eval loss 0.6961836218833923\n",
            "Epoch 194 train loss: 0.3574, eval loss 0.696143627166748\n",
            "Epoch 195 train loss: 0.3450, eval loss 0.6961607336997986\n",
            "Epoch 196 train loss: 0.3591, eval loss 0.6960723996162415\n",
            "Epoch 197 train loss: 0.4025, eval loss 0.6960025429725647\n",
            "Epoch 198 train loss: 0.3658, eval loss 0.6959826350212097\n",
            "Epoch 199 train loss: 0.3627, eval loss 0.6960155963897705\n",
            "Epoch 200 train loss: 0.4005, eval loss 0.695984959602356\n",
            "Epoch 201 train loss: 0.3565, eval loss 0.695885956287384\n",
            "Epoch 202 train loss: 0.3817, eval loss 0.6958515048027039\n",
            "Epoch 203 train loss: 0.3762, eval loss 0.6957693696022034\n",
            "Epoch 204 train loss: 0.3666, eval loss 0.6956195831298828\n",
            "Epoch 205 train loss: 0.3623, eval loss 0.6955701112747192\n",
            "Epoch 206 train loss: 0.3679, eval loss 0.6955662369728088\n",
            "Epoch 207 train loss: 0.3373, eval loss 0.6955358386039734\n",
            "Epoch 208 train loss: 0.3552, eval loss 0.6955578327178955\n",
            "Epoch 209 train loss: 0.3577, eval loss 0.6955395936965942\n",
            "Epoch 210 train loss: 0.3876, eval loss 0.6954453587532043\n",
            "Epoch 211 train loss: 0.3555, eval loss 0.6954067945480347\n",
            "Epoch 212 train loss: 0.3717, eval loss 0.6953080892562866\n",
            "Epoch 213 train loss: 0.3841, eval loss 0.695263147354126\n",
            "Epoch 214 train loss: 0.3577, eval loss 0.6952788233757019\n",
            "Epoch 215 train loss: 0.3726, eval loss 0.6953244209289551\n",
            "Epoch 216 train loss: 0.3485, eval loss 0.6952893137931824\n",
            "Epoch 217 train loss: 0.3603, eval loss 0.6952606439590454\n",
            "Epoch 218 train loss: 0.3694, eval loss 0.6952301859855652\n",
            "Epoch 219 train loss: 0.3787, eval loss 0.6951939463615417\n",
            "Epoch 220 train loss: 0.3568, eval loss 0.6951373815536499\n",
            "Epoch 221 train loss: 0.3715, eval loss 0.6950697898864746\n",
            "Epoch 222 train loss: 0.3574, eval loss 0.6950000524520874\n",
            "Epoch 223 train loss: 0.3949, eval loss 0.6949621438980103\n",
            "Epoch 224 train loss: 0.3568, eval loss 0.6949211955070496\n",
            "Epoch 225 train loss: 0.3237, eval loss 0.6949275135993958\n",
            "Epoch 226 train loss: 0.3778, eval loss 0.694838285446167\n",
            "Epoch 227 train loss: 0.3810, eval loss 0.6948218941688538\n",
            "Epoch 228 train loss: 0.3711, eval loss 0.6947569847106934\n",
            "Epoch 229 train loss: 0.3427, eval loss 0.6947736740112305\n",
            "Epoch 230 train loss: 0.3341, eval loss 0.6947863698005676\n",
            "Epoch 231 train loss: 0.3517, eval loss 0.6947636008262634\n",
            "Epoch 232 train loss: 0.3817, eval loss 0.694686233997345\n",
            "Epoch 233 train loss: 0.3905, eval loss 0.6946737170219421\n",
            "Epoch 234 train loss: 0.3631, eval loss 0.6946666836738586\n",
            "Epoch 235 train loss: 0.3582, eval loss 0.6946555972099304\n",
            "Epoch 236 train loss: 0.3564, eval loss 0.6945343017578125\n",
            "Epoch 237 train loss: 0.3517, eval loss 0.694545567035675\n",
            "Epoch 238 train loss: 0.3690, eval loss 0.6944745779037476\n",
            "Epoch 239 train loss: 0.3638, eval loss 0.6944287419319153\n",
            "Epoch 240 train loss: 0.3555, eval loss 0.6943541169166565\n",
            "Epoch 241 train loss: 0.3575, eval loss 0.6943688988685608\n",
            "Epoch 242 train loss: 0.3331, eval loss 0.6944165229797363\n",
            "Epoch 243 train loss: 0.3747, eval loss 0.6943511366844177\n",
            "Epoch 244 train loss: 0.3508, eval loss 0.6942755579948425\n",
            "Epoch 245 train loss: 0.3423, eval loss 0.6942223310470581\n",
            "Epoch 246 train loss: 0.3482, eval loss 0.694165825843811\n",
            "Epoch 247 train loss: 0.3499, eval loss 0.6941232681274414\n",
            "Epoch 248 train loss: 0.3732, eval loss 0.694158136844635\n",
            "Epoch 249 train loss: 0.3713, eval loss 0.6940857768058777\n",
            "Epoch 250 train loss: 0.3556, eval loss 0.6940913200378418\n",
            "Epoch 251 train loss: 0.3699, eval loss 0.693993091583252\n",
            "Epoch 252 train loss: 0.3462, eval loss 0.6939928531646729\n",
            "Epoch 253 train loss: 0.3651, eval loss 0.6939510107040405\n",
            "Epoch 254 train loss: 0.3490, eval loss 0.6938613057136536\n",
            "Epoch 255 train loss: 0.3309, eval loss 0.6938474178314209\n",
            "Epoch 256 train loss: 0.3768, eval loss 0.6938182711601257\n",
            "Epoch 257 train loss: 0.3944, eval loss 0.6937070488929749\n",
            "Epoch 258 train loss: 0.3894, eval loss 0.6937251687049866\n",
            "Epoch 259 train loss: 0.3633, eval loss 0.6936920881271362\n",
            "Epoch 260 train loss: 0.3904, eval loss 0.6936717629432678\n",
            "Epoch 261 train loss: 0.3760, eval loss 0.6936415433883667\n",
            "Epoch 262 train loss: 0.3567, eval loss 0.6935507655143738\n",
            "Epoch 263 train loss: 0.3657, eval loss 0.6935639381408691\n",
            "Epoch 264 train loss: 0.3890, eval loss 0.6934710144996643\n",
            "Epoch 265 train loss: 0.3754, eval loss 0.6935188174247742\n",
            "Epoch 266 train loss: 0.3465, eval loss 0.6935235261917114\n",
            "Epoch 267 train loss: 0.3593, eval loss 0.6935210227966309\n",
            "Epoch 268 train loss: 0.3780, eval loss 0.6934671998023987\n",
            "Epoch 269 train loss: 0.3393, eval loss 0.693431556224823\n",
            "Epoch 270 train loss: 0.3476, eval loss 0.6933420300483704\n",
            "Epoch 271 train loss: 0.3486, eval loss 0.6932936906814575\n",
            "Epoch 272 train loss: 0.3473, eval loss 0.6932207942008972\n",
            "Epoch 273 train loss: 0.3505, eval loss 0.6931282877922058\n",
            "Epoch 274 train loss: 0.3488, eval loss 0.6931424140930176\n",
            "Epoch 275 train loss: 0.3760, eval loss 0.6931366324424744\n",
            "Epoch 276 train loss: 0.3815, eval loss 0.6931533217430115\n",
            "Epoch 277 train loss: 0.3744, eval loss 0.6931185722351074\n",
            "Epoch 278 train loss: 0.3816, eval loss 0.6931080222129822\n",
            "Epoch 279 train loss: 0.3556, eval loss 0.6931199431419373\n",
            "Epoch 280 train loss: 0.3615, eval loss 0.6930782198905945\n",
            "Epoch 281 train loss: 0.3442, eval loss 0.6930846571922302\n",
            "Epoch 282 train loss: 0.3517, eval loss 0.693039059638977\n",
            "Epoch 283 train loss: 0.3769, eval loss 0.6929657459259033\n",
            "Epoch 284 train loss: 0.3484, eval loss 0.6929538249969482\n",
            "Epoch 285 train loss: 0.3420, eval loss 0.692938506603241\n",
            "Epoch 286 train loss: 0.3431, eval loss 0.692942202091217\n",
            "Epoch 287 train loss: 0.3700, eval loss 0.6929505467414856\n",
            "Epoch 288 train loss: 0.3420, eval loss 0.6929798722267151\n",
            "Epoch 289 train loss: 0.3493, eval loss 0.6929262280464172\n",
            "Epoch 290 train loss: 0.3915, eval loss 0.6928918361663818\n",
            "Epoch 291 train loss: 0.3347, eval loss 0.6928646564483643\n",
            "Epoch 292 train loss: 0.3831, eval loss 0.6927853226661682\n",
            "Epoch 293 train loss: 0.3397, eval loss 0.6928271651268005\n",
            "Epoch 294 train loss: 0.3833, eval loss 0.6927733421325684\n",
            "Epoch 295 train loss: 0.3881, eval loss 0.6927608251571655\n",
            "Epoch 296 train loss: 0.4059, eval loss 0.692763090133667\n",
            "Epoch 297 train loss: 0.3582, eval loss 0.6927489042282104\n",
            "Epoch 298 train loss: 0.3565, eval loss 0.6926960945129395\n",
            "Epoch 299 train loss: 0.3305, eval loss 0.6926512718200684\n"
          ]
        }
      ],
      "source": [
        "model = RegularizedMLP(\n",
        "    input_size=X_train.shape[1], \n",
        "    dropout_p=dropout_p\n",
        ")\n",
        "optimizer = torch.optim.SGD(\n",
        "    model.parameters(), \n",
        "    lr=learning_rate, \n",
        "    weight_decay=l2_reg\n",
        ")\n",
        "loss_fn = torch.nn.BCEWithLogitsLoss()\n",
        "\n",
        "train_dataset = MyDataset(X_train, y_train)\n",
        "train_dataloader = DataLoader(train_dataset, batch_size=batch_size)\n",
        "\n",
        "steps_without_improvement = 0\n",
        "\n",
        "best_val_loss = np.inf\n",
        "best_model = None\n",
        "best_threshold = None\n",
        "\n",
        "for epoch_num in range(max_epochs):\n",
        "    model.train()\n",
        "\n",
        "    for X_batch, y_batch in train_dataloader:\n",
        "        optimizer.zero_grad()\n",
        "        y_batch_pred = model(X_batch)\n",
        "        loss = loss_fn(y_batch_pred, y_batch)\n",
        "        loss.backward()\n",
        "        optimizer.step()\n",
        "    \n",
        "    model.eval()\n",
        "    valid_metrics = evaluate_model(model, X_valid, y_valid, loss_fn)\n",
        "    if best_val_loss > valid_metrics['loss']:\n",
        "      best_val_loss = valid_metrics['loss']\n",
        "      best_model = deepcopy(model)\n",
        "      best_threshold = valid_metrics['optimal_threshold']\n",
        "      steps_without_improvement = 0\n",
        "    else:\n",
        "        steps_without_improvement += 1\n",
        "        if steps_without_improvement == early_stopping_patience:\n",
        "          break\n",
        "    \n",
        "    print(f\"Epoch {epoch_num} train loss: {loss.item():.4f}, eval loss {valid_metrics['loss']}\")\n"
      ]
    },
    {
      "cell_type": "code",
      "execution_count": 166,
      "metadata": {
        "id": "6QLu_PPRr50G",
        "colab": {
          "base_uri": "https://localhost:8080/"
        },
        "outputId": "b9a7c14d-632f-434a-b01e-fb43cf141e84"
      },
      "outputs": [
        {
          "output_type": "stream",
          "name": "stdout",
          "text": [
            "AUROC: 90.22%\n",
            "F1: 68.53%\n",
            "Precision: 64.21%\n",
            "Recall: 73.47%\n"
          ]
        }
      ],
      "source": [
        "test_metrics = evaluate_model(best_model, X_test, y_test, loss_fn, best_threshold)\n",
        "\n",
        "print(f\"AUROC: {100 * test_metrics['AUROC']:.2f}%\")\n",
        "print(f\"F1: {100 * test_metrics['F1-score']:.2f}%\")\n",
        "print(f\"Precision: {100 * test_metrics['precision']:.2f}%\")\n",
        "print(f\"Recall: {100 * test_metrics['recall']:.2f}%\")"
      ]
    },
    {
      "cell_type": "markdown",
      "metadata": {
        "id": "ivp91TkMr50G"
      },
      "source": [
        "Wyniki wyglądają już dużo lepiej.\n",
        "\n",
        "Na koniec laboratorium dołożymy do naszego modelu jeszcze 3 powrzechnie używane techniki, które są bardzo proste, a pozwalają często ulepszyć wynik modelu.\n",
        "\n",
        "Pierwszą z nich są **warstwy normalizacji (normalization layers)**. Powstały one początkowo z założeniem, że przez przekształcenia przestrzeni dokonywane przez sieć zmienia się rozkład prawdopodobieństw pomiędzy warstwami, czyli tzw. *internal covariate shift*. Później okazało się, że zastosowanie takiej normalizacji wygładza powierzchnię funkcji kosztu, co ułatwia i przyspiesza optymalizację. Najpowszechniej używaną normalizacją jest **batch normalization (batch norm)**.\n",
        "\n",
        "Drugim ulepszeniem jest dodanie **wag klas (class weights)**. Mamy do czynienia z problemem klasyfikacji niezbalansowanej, więc klasa mniejszościowa, ważniejsza dla nas, powinna dostać większą wagę. Implementuje się to trywialnie prosto - po prostu mnożymy wartość funkcji kosztu dla danego przykładu przez wagę dla prawdziwej klasy tego przykładu. Praktycznie każdy klasyfikator operujący na jakiejś ważonej funkcji może działać w ten sposób, nie tylko sieci neuronowe.\n",
        "\n",
        "Ostatnim ulepszeniem jest zamiana SGD na optymalizator Adam, a konkretnie na optymalizator `AdamW`. Jest to przykład **optymalizatora adaptacyjnego (adaptive optimizer)**, który potrafi zaadaptować stałą uczącą dla każdego parametru z osobna w trakcie treningu. Wykorzystuje do tego gradienty - w uproszczeniu, im większa wariancja gradientu, tym mniejsze kroki w tym kierunku robimy."
      ]
    },
    {
      "cell_type": "markdown",
      "metadata": {
        "id": "lq05E0K7r50H"
      },
      "source": [
        "#### Zadanie 8 (1 punkt)\n",
        "\n",
        "Zaimplementuj model `NormalizingMLP`, o takiej samej strukturze jak `RegularizedMLP`, ale dodatkowo z warstwami `BatchNorm1d` pomiędzy warstwami `Linear` oraz `ReLU`.\n",
        "\n",
        "Za pomocą funkcji `compute_class_weight()` oblicz wagi dla poszczególnych klas. Użyj opcji `\"balanced\"`. Przekaż do funkcji kosztu wagę klasy pozytywnej (pamiętaj, aby zamienić ją na tensor).\n",
        "\n",
        "Zamień używany optymalizator na `AdamW`.\n",
        "\n",
        "Na koniec skopiuj resztę kodu do treningu z poprzedniego zadania, wytrenuj sieć i oblicz wyniki na zbiorze testowym."
      ]
    },
    {
      "cell_type": "code",
      "execution_count": 167,
      "metadata": {
        "id": "mCs09s8nr50H"
      },
      "outputs": [],
      "source": [
        "class NormalizingMLP(nn.Module):\n",
        "    def __init__(self, input_size: int, dropout_p: float = 0.5):\n",
        "        super().__init__()\n",
        "        self.mlp = nn.Sequential(\n",
        "            nn.Linear(input_size, 256),\n",
        "            nn.BatchNorm1d(256),\n",
        "            nn.ReLU(),\n",
        "            nn.Dropout(dropout_p),\n",
        "            nn.Linear(256, 128),\n",
        "            nn.BatchNorm1d(128),\n",
        "            nn.ReLU(),\n",
        "            nn.Dropout(dropout_p),\n",
        "            nn.Linear(128, 1)\n",
        "        )\n",
        "    \n",
        "    def forward(self, x):\n",
        "        return self.mlp(x)\n",
        "\n",
        "    def predict_proba(self, x):\n",
        "        return sigmoid(self(x))\n",
        "    \n",
        "    def predict(self, x):\n",
        "        y_pred_score = self.predict_proba(x)\n",
        "        return torch.argmax(y_pred_score, dim=1)\n"
      ]
    },
    {
      "cell_type": "code",
      "execution_count": 168,
      "metadata": {
        "id": "LkwMuI1Gr50H"
      },
      "outputs": [],
      "source": [
        "from sklearn.utils.class_weight import compute_class_weight\n",
        "\n",
        "weights = compute_class_weight(\n",
        "    class_weight='balanced',\n",
        "    classes=np.unique(y),\n",
        "    y=y\n",
        ")\n",
        "\n",
        "learning_rate = 1e-3\n",
        "dropout_p = 0.5\n",
        "l2_reg = 1e-4\n",
        "batch_size = 128\n",
        "max_epochs = 300\n",
        "\n",
        "early_stopping_patience = 4"
      ]
    },
    {
      "cell_type": "code",
      "execution_count": 169,
      "metadata": {
        "scrolled": true,
        "id": "vXNCW_F_r50H",
        "colab": {
          "base_uri": "https://localhost:8080/"
        },
        "outputId": "99d26a62-1b4a-4ad8-fa42-6de6e94684eb"
      },
      "outputs": [
        {
          "output_type": "stream",
          "name": "stdout",
          "text": [
            "Epoch 0 train loss: 0.5876, eval loss 0.8204528093338013\n",
            "Epoch 1 train loss: 0.5607, eval loss 0.8188209533691406\n",
            "Epoch 2 train loss: 0.5739, eval loss 0.8161496520042419\n",
            "Epoch 3 train loss: 0.5445, eval loss 0.8129462003707886\n",
            "Epoch 4 train loss: 0.5469, eval loss 0.8150284886360168\n",
            "Epoch 5 train loss: 0.5183, eval loss 0.8124613761901855\n",
            "Epoch 6 train loss: 0.5969, eval loss 0.8126871585845947\n",
            "Epoch 7 train loss: 0.5519, eval loss 0.8119745850563049\n",
            "Epoch 8 train loss: 0.5394, eval loss 0.811347246170044\n",
            "Epoch 9 train loss: 0.5425, eval loss 0.8113515377044678\n",
            "Epoch 10 train loss: 0.5673, eval loss 0.8111284971237183\n",
            "Epoch 11 train loss: 0.6153, eval loss 0.8106757402420044\n",
            "Epoch 12 train loss: 0.5179, eval loss 0.8093856573104858\n",
            "Epoch 13 train loss: 0.5430, eval loss 0.8100429177284241\n",
            "Epoch 14 train loss: 0.5013, eval loss 0.8088693022727966\n",
            "Epoch 15 train loss: 0.5419, eval loss 0.8090188503265381\n",
            "Epoch 16 train loss: 0.5269, eval loss 0.8096913695335388\n",
            "Epoch 17 train loss: 0.4996, eval loss 0.8097910284996033\n",
            "Epoch 18 train loss: 0.5392, eval loss 0.8088115453720093\n",
            "Epoch 19 train loss: 0.5338, eval loss 0.8077989220619202\n",
            "Epoch 20 train loss: 0.5408, eval loss 0.8087905645370483\n",
            "Epoch 21 train loss: 0.5442, eval loss 0.8078058362007141\n",
            "Epoch 22 train loss: 0.4661, eval loss 0.8083646297454834\n"
          ]
        }
      ],
      "source": [
        "model = NormalizingMLP(\n",
        "    input_size=X_train.shape[1], \n",
        "    dropout_p=dropout_p\n",
        ")\n",
        "optimizer = optim.AdamW(\n",
        "    model.parameters(),\n",
        "    lr=learning_rate,\n",
        "    weight_decay=l2_reg\n",
        ")\n",
        "loss_fn = torch.nn.BCEWithLogitsLoss(pos_weight=torch.from_numpy(weights)[1])\n",
        "\n",
        "train_dataset = MyDataset(X_train, y_train)\n",
        "train_dataloader = DataLoader(train_dataset, batch_size=batch_size)\n",
        "\n",
        "steps_without_improvement = 0\n",
        "\n",
        "best_val_loss = np.inf\n",
        "best_model = None\n",
        "best_threshold = None\n",
        "\n",
        "for epoch_num in range(max_epochs):\n",
        "    model.train()\n",
        "    \n",
        "    for X_batch, y_batch in train_dataloader:\n",
        "        optimizer.zero_grad()\n",
        "        y_batch_pred = model(X_batch)\n",
        "        loss = loss_fn(y_batch_pred, y_batch)\n",
        "        loss.backward()\n",
        "        optimizer.step()\n",
        "    \n",
        "    model.eval()\n",
        "    valid_metrics = evaluate_model(model, X_valid, y_valid, loss_fn)\n",
        "    if best_val_loss > valid_metrics['loss']:\n",
        "      best_val_loss = valid_metrics['loss']\n",
        "      best_model = deepcopy(model)\n",
        "      best_threshold = valid_metrics['optimal_threshold']\n",
        "      steps_without_improvement = 0\n",
        "    else:\n",
        "        steps_without_improvement += 1\n",
        "        if steps_without_improvement == early_stopping_patience:\n",
        "          break\n",
        "    \n",
        "    print(f\"Epoch {epoch_num} train loss: {loss.item():.4f}, eval loss {valid_metrics['loss']}\")\n"
      ]
    },
    {
      "cell_type": "code",
      "execution_count": 170,
      "metadata": {
        "scrolled": true,
        "id": "-XKOSnFnr50I",
        "colab": {
          "base_uri": "https://localhost:8080/"
        },
        "outputId": "d8a73a57-4d72-4798-aae0-52c088fa1e55"
      },
      "outputs": [
        {
          "output_type": "stream",
          "name": "stdout",
          "text": [
            "AUROC: 90.78%\n",
            "F1: 69.76%\n",
            "Precision: 64.91%\n",
            "Recall: 75.38%\n"
          ]
        }
      ],
      "source": [
        "test_metrics = evaluate_model(best_model, X_test, y_test, loss_fn, best_threshold)\n",
        "\n",
        "print(f\"AUROC: {100 * test_metrics['AUROC']:.2f}%\")\n",
        "print(f\"F1: {100 * test_metrics['F1-score']:.2f}%\")\n",
        "print(f\"Precision: {100 * test_metrics['precision']:.2f}%\")\n",
        "print(f\"Recall: {100 * test_metrics['recall']:.2f}%\")"
      ]
    },
    {
      "cell_type": "markdown",
      "metadata": {
        "id": "2aDGEtvdr50I"
      },
      "source": [
        "## Pytania kontrolne (1 punkt)\n",
        "\n",
        "1. Wymień 4 najważniejsze twoim zdaniem hiperparametry sieci neuronowej.\n",
        "2. Czy widzisz jakiś problem w użyciu regularyzacji L1 w treningu sieci neuronowych? Czy dropout może twoim zdaniem stanowić alternatywę dla tego rodzaju regularyzacji?\n",
        "3. Czy użycie innej metryki do wczesnego stopu da taki sam model końcowy? Czemu?"
      ]
    },
    {
      "cell_type": "markdown",
      "metadata": {
        "id": "XyoRnHT4GFR9"
      },
      "source": [
        "## Akceleracja sprzętowa (dla zainteresowanych)"
      ]
    },
    {
      "cell_type": "markdown",
      "metadata": {
        "id": "oOMUDgPQr50I"
      },
      "source": [
        "Jak wcześniej wspominaliśmy, użycie akceleracji sprzętowej, czyli po prostu GPU do obliczeń, jest bardzo efektywne w przypadku sieci neuronowych. Karty graficzne bardzo efektywnie mnożą macierze, a sieci neuronowe to, jak można było się przekonać, dużo mnożenia macierzy.\n",
        "\n",
        "W PyTorchu jest to dosyć łatwe, ale trzeba robić to explicite. Służy do tego metoda `.to()`, która przenosi tensory między CPU i GPU. Poniżej przykład, jak to się robi (oczywiście trzeba mieć skonfigurowane GPU, żeby działało):"
      ]
    },
    {
      "cell_type": "code",
      "execution_count": null,
      "metadata": {
        "id": "wxRjAd5Ir50J"
      },
      "outputs": [],
      "source": [
        "import time \n",
        "\n",
        "model = NormalizingMLP(\n",
        "    input_size=X_train.shape[1], \n",
        "    dropout_p=dropout_p\n",
        ").to('cuda')\n",
        "\n",
        "optimizer = torch.optim.AdamW(model.parameters(), lr=learning_rate, weight_decay=1e-4)\n",
        "\n",
        "# note that we are using loss function with sigmoid built in\n",
        "loss_fn = torch.nn.BCEWithLogitsLoss(pos_weight=torch.from_numpy(weights)[1].to('cuda'))\n",
        "\n",
        "step_counter = 0\n",
        "time_from_eval = time.time()\n",
        "for epoch_id in range(30):\n",
        "    for batch_x, batch_y in train_dataloader:\n",
        "        batch_x = batch_x.to('cuda')\n",
        "        batch_y = batch_y.to('cuda')\n",
        "        \n",
        "        loss = loss_fn(model(batch_x), batch_y)\n",
        "        loss.backward()\n",
        "\n",
        "        optimizer.step()\n",
        "        optimizer.zero_grad()\n",
        "        \n",
        "        if step_counter % evaluation_steps == 0:\n",
        "            print(f\"Epoch {epoch_id} train loss: {loss.item():.4f}, time: {time.time() - time_from_eval}\")\n",
        "            time_from_eval = time.time()\n",
        "\n",
        "        step_counter += 1\n",
        "\n",
        "test_res = evaluate_model(model.to('cpu'), X_test, y_test, loss_fn.to('cpu'), threshold=0.5)\n",
        "\n",
        "print(f\"AUROC: {100 * test_metrics['AUROC']:.2f}%\")\n",
        "print(f\"F1: {100 * test_metrics['F1-score']:.2f}%\")"
      ]
    },
    {
      "cell_type": "markdown",
      "metadata": {
        "id": "elAs86Qyr50J"
      },
      "source": [
        "Wyniki mogą się różnić z modelem na CPU, zauważ o ile szybszy jest ten model w porównaniu z CPU (przynajmniej w przypadków scenariuszy tak będzie ;)).\n",
        "\n",
        "Dla zainteresowanych polecamy [tę serie artykułów](https://medium.com/@adi.fu7/ai-accelerators-part-i-intro-822c2cdb4ca4)"
      ]
    },
    {
      "cell_type": "markdown",
      "metadata": {
        "id": "UJl2iCP7r50J"
      },
      "source": [
        "## Zadanie dla chętnych"
      ]
    },
    {
      "cell_type": "markdown",
      "metadata": {
        "id": "MY1ltBpRr50J"
      },
      "source": [
        "Jak widzieliśmy, sieci neuronowe mają bardzo dużo hiperparametrów. Przeszukiwanie ich grid search'em jest więc niewykonalne, a chociaż random search by działał, to potrzebowałby wielu iteracji, co też jest kosztowne obliczeniowo.\n",
        "\n",
        "Zaimplementuj inteligentne przeszukiwanie przestrzeni hiperparametrów za pomocą biblioteki [Optuna](https://optuna.org/). Implementuje ona między innymi algorytm Tree Parzen Estimator (TPE), należący do grupy algorytmów typu Bayesian search. Typowo osiągają one bardzo dobre wyniki, a właściwie zawsze lepsze od przeszukiwania losowego. Do tego wystarcza im często niewielka liczba kroków.\n",
        "\n",
        "Zaimplementuj 3-warstwową sieć MLP, gdzie pierwsza warstwa ma rozmiar ukryty N, a druga N // 2. Ucz ją optymalizatorem Adam przez maksymalnie 300 epok z cierpliwością 10.\n",
        "\n",
        "Przeszukaj wybrane zakresy dla hiperparametrów:\n",
        "- rozmiar warstw ukrytych (N)\n",
        "- stała ucząca\n",
        "- batch size\n",
        "- siła regularyzacji L2\n",
        "- prawdopodobieństwo dropoutu\n",
        "\n",
        "Wykorzystaj przynajmniej 30 iteracji. Następnie przełącz algorytm na losowy (Optuna także jego implementuje), wykonaj 30 iteracji i porównaj jakość wyników.\n",
        "\n",
        "Przydatne materiały:\n",
        "- [Optuna code examples - PyTorch](https://optuna.org/#code_examples)\n",
        "- [Auto-Tuning Hyperparameters with Optuna and PyTorch](https://www.youtube.com/watch?v=P6NwZVl8ttc)\n",
        "- [Hyperparameter Tuning of Neural Networks with Optuna and PyTorch](https://towardsdatascience.com/hyperparameter-tuning-of-neural-networks-with-optuna-and-pytorch-22e179efc837)\n",
        "- [Using Optuna to Optimize PyTorch Hyperparameters](https://medium.com/pytorch/using-optuna-to-optimize-pytorch-hyperparameters-990607385e36)"
      ]
    },
    {
      "cell_type": "code",
      "execution_count": null,
      "metadata": {
        "id": "bBvAftZdr50K"
      },
      "outputs": [],
      "source": []
    }
  ],
  "metadata": {
    "colab": {
      "provenance": []
    },
    "kernelspec": {
      "display_name": "Python 3 (ipykernel)",
      "language": "python",
      "name": "python3"
    },
    "language_info": {
      "codemirror_mode": {
        "name": "ipython",
        "version": 3
      },
      "file_extension": ".py",
      "mimetype": "text/x-python",
      "name": "python",
      "nbconvert_exporter": "python",
      "pygments_lexer": "ipython3",
      "version": "3.9.13"
    },
    "toc": {
      "base_numbering": 1,
      "nav_menu": {},
      "number_sections": false,
      "sideBar": false,
      "skip_h1_title": false,
      "title_cell": "Table of Contents",
      "title_sidebar": "Contents",
      "toc_cell": false,
      "toc_position": {},
      "toc_section_display": true,
      "toc_window_display": true
    },
    "vscode": {
      "interpreter": {
        "hash": "a5d7af91182035c53be6efb3f9b18ffc3e259c9c524705249407647c970de949"
      }
    }
  },
  "nbformat": 4,
  "nbformat_minor": 0
}